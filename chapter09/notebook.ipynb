{
  "cells": [
    {
      "cell_type": "markdown",
      "metadata": {
        "id": "NVjkCXa6Vxto"
      },
      "source": [
        "# LangGraphで作るAIエージェント実践入門"
      ]
    },
    {
      "cell_type": "markdown",
      "metadata": {
        "id": "kpPkjkIxVxtv"
      },
      "source": [
        "## 9.3 ハンズオン：Q&Aアプリケーション"
      ]
    },
    {
      "cell_type": "code",
      "execution_count": 1,
      "metadata": {
        "colab": {
          "base_uri": "https://localhost:8080/",
          "height": 1000
        },
        "id": "djWZGTNVVxtw",
        "outputId": "24a072d4-aa3d-4929-db96-7b80c4fa037a"
      },
      "outputs": [
        {
          "output_type": "stream",
          "name": "stdout",
          "text": [
            "Collecting langchain==0.3.0\n",
            "  Downloading langchain-0.3.0-py3-none-any.whl.metadata (7.1 kB)\n",
            "Collecting langchain-openai==0.2.0\n",
            "  Downloading langchain_openai-0.2.0-py3-none-any.whl.metadata (2.6 kB)\n",
            "Collecting langgraph==0.2.22\n",
            "  Downloading langgraph-0.2.22-py3-none-any.whl.metadata (13 kB)\n",
            "Collecting pydantic==2.10.6\n",
            "  Downloading pydantic-2.10.6-py3-none-any.whl.metadata (30 kB)\n",
            "Requirement already satisfied: PyYAML>=5.3 in /usr/local/lib/python3.11/dist-packages (from langchain==0.3.0) (6.0.2)\n",
            "Requirement already satisfied: SQLAlchemy<3,>=1.4 in /usr/local/lib/python3.11/dist-packages (from langchain==0.3.0) (2.0.43)\n",
            "Requirement already satisfied: aiohttp<4.0.0,>=3.8.3 in /usr/local/lib/python3.11/dist-packages (from langchain==0.3.0) (3.12.15)\n",
            "Requirement already satisfied: langchain-core<0.4.0,>=0.3.0 in /usr/local/lib/python3.11/dist-packages (from langchain==0.3.0) (0.3.74)\n",
            "Requirement already satisfied: langchain-text-splitters<0.4.0,>=0.3.0 in /usr/local/lib/python3.11/dist-packages (from langchain==0.3.0) (0.3.9)\n",
            "Collecting langsmith<0.2.0,>=0.1.17 (from langchain==0.3.0)\n",
            "  Downloading langsmith-0.1.147-py3-none-any.whl.metadata (14 kB)\n",
            "Collecting numpy<2,>=1 (from langchain==0.3.0)\n",
            "  Downloading numpy-1.26.4-cp311-cp311-manylinux_2_17_x86_64.manylinux2014_x86_64.whl.metadata (61 kB)\n",
            "\u001b[2K     \u001b[90m━━━━━━━━━━━━━━━━━━━━━━━━━━━━━━━━━━━━━━━━\u001b[0m \u001b[32m61.0/61.0 kB\u001b[0m \u001b[31m3.6 MB/s\u001b[0m eta \u001b[36m0:00:00\u001b[0m\n",
            "\u001b[?25hRequirement already satisfied: requests<3,>=2 in /usr/local/lib/python3.11/dist-packages (from langchain==0.3.0) (2.32.3)\n",
            "Collecting tenacity!=8.4.0,<9.0.0,>=8.1.0 (from langchain==0.3.0)\n",
            "  Downloading tenacity-8.5.0-py3-none-any.whl.metadata (1.2 kB)\n",
            "Requirement already satisfied: openai<2.0.0,>=1.40.0 in /usr/local/lib/python3.11/dist-packages (from langchain-openai==0.2.0) (1.99.9)\n",
            "Requirement already satisfied: tiktoken<1,>=0.7 in /usr/local/lib/python3.11/dist-packages (from langchain-openai==0.2.0) (0.11.0)\n",
            "Collecting langgraph-checkpoint<2.0.0,>=1.0.2 (from langgraph==0.2.22)\n",
            "  Downloading langgraph_checkpoint-1.0.12-py3-none-any.whl.metadata (4.6 kB)\n",
            "Requirement already satisfied: annotated-types>=0.6.0 in /usr/local/lib/python3.11/dist-packages (from pydantic==2.10.6) (0.7.0)\n",
            "Collecting pydantic-core==2.27.2 (from pydantic==2.10.6)\n",
            "  Downloading pydantic_core-2.27.2-cp311-cp311-manylinux_2_17_x86_64.manylinux2014_x86_64.whl.metadata (6.6 kB)\n",
            "Requirement already satisfied: typing-extensions>=4.12.2 in /usr/local/lib/python3.11/dist-packages (from pydantic==2.10.6) (4.14.1)\n",
            "Requirement already satisfied: aiohappyeyeballs>=2.5.0 in /usr/local/lib/python3.11/dist-packages (from aiohttp<4.0.0,>=3.8.3->langchain==0.3.0) (2.6.1)\n",
            "Requirement already satisfied: aiosignal>=1.4.0 in /usr/local/lib/python3.11/dist-packages (from aiohttp<4.0.0,>=3.8.3->langchain==0.3.0) (1.4.0)\n",
            "Requirement already satisfied: attrs>=17.3.0 in /usr/local/lib/python3.11/dist-packages (from aiohttp<4.0.0,>=3.8.3->langchain==0.3.0) (25.3.0)\n",
            "Requirement already satisfied: frozenlist>=1.1.1 in /usr/local/lib/python3.11/dist-packages (from aiohttp<4.0.0,>=3.8.3->langchain==0.3.0) (1.7.0)\n",
            "Requirement already satisfied: multidict<7.0,>=4.5 in /usr/local/lib/python3.11/dist-packages (from aiohttp<4.0.0,>=3.8.3->langchain==0.3.0) (6.6.4)\n",
            "Requirement already satisfied: propcache>=0.2.0 in /usr/local/lib/python3.11/dist-packages (from aiohttp<4.0.0,>=3.8.3->langchain==0.3.0) (0.3.2)\n",
            "Requirement already satisfied: yarl<2.0,>=1.17.0 in /usr/local/lib/python3.11/dist-packages (from aiohttp<4.0.0,>=3.8.3->langchain==0.3.0) (1.20.1)\n",
            "INFO: pip is looking at multiple versions of langchain-core to determine which version is compatible with other requirements. This could take a while.\n",
            "Collecting langchain-core<0.4.0,>=0.3.0 (from langchain==0.3.0)\n",
            "  Downloading langchain_core-0.3.73-py3-none-any.whl.metadata (5.8 kB)\n",
            "  Downloading langchain_core-0.3.72-py3-none-any.whl.metadata (5.8 kB)\n",
            "  Downloading langchain_core-0.3.71-py3-none-any.whl.metadata (5.8 kB)\n",
            "  Downloading langchain_core-0.3.70-py3-none-any.whl.metadata (5.8 kB)\n",
            "  Downloading langchain_core-0.3.69-py3-none-any.whl.metadata (5.8 kB)\n",
            "  Downloading langchain_core-0.3.68-py3-none-any.whl.metadata (5.8 kB)\n",
            "  Downloading langchain_core-0.3.67-py3-none-any.whl.metadata (5.8 kB)\n",
            "INFO: pip is still looking at multiple versions of langchain-core to determine which version is compatible with other requirements. This could take a while.\n",
            "  Downloading langchain_core-0.3.66-py3-none-any.whl.metadata (5.8 kB)\n",
            "  Downloading langchain_core-0.3.65-py3-none-any.whl.metadata (5.8 kB)\n",
            "  Downloading langchain_core-0.3.64-py3-none-any.whl.metadata (5.8 kB)\n",
            "  Downloading langchain_core-0.3.63-py3-none-any.whl.metadata (5.8 kB)\n",
            "Requirement already satisfied: jsonpatch<2.0,>=1.33 in /usr/local/lib/python3.11/dist-packages (from langchain-core<0.4.0,>=0.3.0->langchain==0.3.0) (1.33)\n",
            "Collecting packaging<25,>=23.2 (from langchain-core<0.4.0,>=0.3.0->langchain==0.3.0)\n",
            "  Downloading packaging-24.2-py3-none-any.whl.metadata (3.2 kB)\n",
            "INFO: This is taking longer than usual. You might need to provide the dependency resolver with stricter constraints to reduce runtime. See https://pip.pypa.io/warnings/backtracking for guidance. If you want to abort this run, press Ctrl + C.\n",
            "Collecting langchain-text-splitters<0.4.0,>=0.3.0 (from langchain==0.3.0)\n",
            "  Downloading langchain_text_splitters-0.3.9-py3-none-any.whl.metadata (1.9 kB)\n",
            "Requirement already satisfied: httpx<1,>=0.23.0 in /usr/local/lib/python3.11/dist-packages (from langsmith<0.2.0,>=0.1.17->langchain==0.3.0) (0.28.1)\n",
            "Requirement already satisfied: orjson<4.0.0,>=3.9.14 in /usr/local/lib/python3.11/dist-packages (from langsmith<0.2.0,>=0.1.17->langchain==0.3.0) (3.11.2)\n",
            "Requirement already satisfied: requests-toolbelt<2.0.0,>=1.0.0 in /usr/local/lib/python3.11/dist-packages (from langsmith<0.2.0,>=0.1.17->langchain==0.3.0) (1.0.0)\n",
            "  Downloading langchain_text_splitters-0.3.8-py3-none-any.whl.metadata (1.9 kB)\n",
            "Requirement already satisfied: msgpack<2.0.0,>=1.1.0 in /usr/local/lib/python3.11/dist-packages (from langgraph-checkpoint<2.0.0,>=1.0.2->langgraph==0.2.22) (1.1.1)\n",
            "Requirement already satisfied: anyio<5,>=3.5.0 in /usr/local/lib/python3.11/dist-packages (from openai<2.0.0,>=1.40.0->langchain-openai==0.2.0) (4.10.0)\n",
            "Requirement already satisfied: distro<2,>=1.7.0 in /usr/local/lib/python3.11/dist-packages (from openai<2.0.0,>=1.40.0->langchain-openai==0.2.0) (1.9.0)\n",
            "Requirement already satisfied: jiter<1,>=0.4.0 in /usr/local/lib/python3.11/dist-packages (from openai<2.0.0,>=1.40.0->langchain-openai==0.2.0) (0.10.0)\n",
            "Requirement already satisfied: sniffio in /usr/local/lib/python3.11/dist-packages (from openai<2.0.0,>=1.40.0->langchain-openai==0.2.0) (1.3.1)\n",
            "Requirement already satisfied: tqdm>4 in /usr/local/lib/python3.11/dist-packages (from openai<2.0.0,>=1.40.0->langchain-openai==0.2.0) (4.67.1)\n",
            "Requirement already satisfied: charset-normalizer<4,>=2 in /usr/local/lib/python3.11/dist-packages (from requests<3,>=2->langchain==0.3.0) (3.4.3)\n",
            "Requirement already satisfied: idna<4,>=2.5 in /usr/local/lib/python3.11/dist-packages (from requests<3,>=2->langchain==0.3.0) (3.10)\n",
            "Requirement already satisfied: urllib3<3,>=1.21.1 in /usr/local/lib/python3.11/dist-packages (from requests<3,>=2->langchain==0.3.0) (2.5.0)\n",
            "Requirement already satisfied: certifi>=2017.4.17 in /usr/local/lib/python3.11/dist-packages (from requests<3,>=2->langchain==0.3.0) (2025.8.3)\n",
            "Requirement already satisfied: greenlet>=1 in /usr/local/lib/python3.11/dist-packages (from SQLAlchemy<3,>=1.4->langchain==0.3.0) (3.2.4)\n",
            "Requirement already satisfied: regex>=2022.1.18 in /usr/local/lib/python3.11/dist-packages (from tiktoken<1,>=0.7->langchain-openai==0.2.0) (2024.11.6)\n",
            "Requirement already satisfied: httpcore==1.* in /usr/local/lib/python3.11/dist-packages (from httpx<1,>=0.23.0->langsmith<0.2.0,>=0.1.17->langchain==0.3.0) (1.0.9)\n",
            "Requirement already satisfied: h11>=0.16 in /usr/local/lib/python3.11/dist-packages (from httpcore==1.*->httpx<1,>=0.23.0->langsmith<0.2.0,>=0.1.17->langchain==0.3.0) (0.16.0)\n",
            "Requirement already satisfied: jsonpointer>=1.9 in /usr/local/lib/python3.11/dist-packages (from jsonpatch<2.0,>=1.33->langchain-core<0.4.0,>=0.3.0->langchain==0.3.0) (3.0.0)\n",
            "Downloading langchain-0.3.0-py3-none-any.whl (1.0 MB)\n",
            "\u001b[2K   \u001b[90m━━━━━━━━━━━━━━━━━━━━━━━━━━━━━━━━━━━━━━━━\u001b[0m \u001b[32m1.0/1.0 MB\u001b[0m \u001b[31m19.8 MB/s\u001b[0m eta \u001b[36m0:00:00\u001b[0m\n",
            "\u001b[?25hDownloading langchain_openai-0.2.0-py3-none-any.whl (51 kB)\n",
            "\u001b[2K   \u001b[90m━━━━━━━━━━━━━━━━━━━━━━━━━━━━━━━━━━━━━━━━\u001b[0m \u001b[32m51.5/51.5 kB\u001b[0m \u001b[31m4.7 MB/s\u001b[0m eta \u001b[36m0:00:00\u001b[0m\n",
            "\u001b[?25hDownloading langgraph-0.2.22-py3-none-any.whl (98 kB)\n",
            "\u001b[2K   \u001b[90m━━━━━━━━━━━━━━━━━━━━━━━━━━━━━━━━━━━━━━━━\u001b[0m \u001b[32m98.5/98.5 kB\u001b[0m \u001b[31m8.8 MB/s\u001b[0m eta \u001b[36m0:00:00\u001b[0m\n",
            "\u001b[?25hDownloading pydantic-2.10.6-py3-none-any.whl (431 kB)\n",
            "\u001b[2K   \u001b[90m━━━━━━━━━━━━━━━━━━━━━━━━━━━━━━━━━━━━━━━━\u001b[0m \u001b[32m431.7/431.7 kB\u001b[0m \u001b[31m34.0 MB/s\u001b[0m eta \u001b[36m0:00:00\u001b[0m\n",
            "\u001b[?25hDownloading pydantic_core-2.27.2-cp311-cp311-manylinux_2_17_x86_64.manylinux2014_x86_64.whl (2.0 MB)\n",
            "\u001b[2K   \u001b[90m━━━━━━━━━━━━━━━━━━━━━━━━━━━━━━━━━━━━━━━━\u001b[0m \u001b[32m2.0/2.0 MB\u001b[0m \u001b[31m60.7 MB/s\u001b[0m eta \u001b[36m0:00:00\u001b[0m\n",
            "\u001b[?25hDownloading langchain_core-0.3.63-py3-none-any.whl (438 kB)\n",
            "\u001b[2K   \u001b[90m━━━━━━━━━━━━━━━━━━━━━━━━━━━━━━━━━━━━━━━━\u001b[0m \u001b[32m438.5/438.5 kB\u001b[0m \u001b[31m30.7 MB/s\u001b[0m eta \u001b[36m0:00:00\u001b[0m\n",
            "\u001b[?25hDownloading langsmith-0.1.147-py3-none-any.whl (311 kB)\n",
            "\u001b[2K   \u001b[90m━━━━━━━━━━━━━━━━━━━━━━━━━━━━━━━━━━━━━━━━\u001b[0m \u001b[32m311.8/311.8 kB\u001b[0m \u001b[31m22.8 MB/s\u001b[0m eta \u001b[36m0:00:00\u001b[0m\n",
            "\u001b[?25hDownloading langchain_text_splitters-0.3.8-py3-none-any.whl (32 kB)\n",
            "Downloading langgraph_checkpoint-1.0.12-py3-none-any.whl (17 kB)\n",
            "Downloading numpy-1.26.4-cp311-cp311-manylinux_2_17_x86_64.manylinux2014_x86_64.whl (18.3 MB)\n",
            "\u001b[2K   \u001b[90m━━━━━━━━━━━━━━━━━━━━━━━━━━━━━━━━━━━━━━━━\u001b[0m \u001b[32m18.3/18.3 MB\u001b[0m \u001b[31m83.2 MB/s\u001b[0m eta \u001b[36m0:00:00\u001b[0m\n",
            "\u001b[?25hDownloading tenacity-8.5.0-py3-none-any.whl (28 kB)\n",
            "Downloading packaging-24.2-py3-none-any.whl (65 kB)\n",
            "\u001b[2K   \u001b[90m━━━━━━━━━━━━━━━━━━━━━━━━━━━━━━━━━━━━━━━━\u001b[0m \u001b[32m65.5/65.5 kB\u001b[0m \u001b[31m5.5 MB/s\u001b[0m eta \u001b[36m0:00:00\u001b[0m\n",
            "\u001b[?25hInstalling collected packages: tenacity, pydantic-core, packaging, numpy, pydantic, langsmith, langchain-core, langgraph-checkpoint, langchain-text-splitters, langchain-openai, langgraph, langchain\n",
            "  Attempting uninstall: tenacity\n",
            "    Found existing installation: tenacity 9.1.2\n",
            "    Uninstalling tenacity-9.1.2:\n",
            "      Successfully uninstalled tenacity-9.1.2\n",
            "  Attempting uninstall: pydantic-core\n",
            "    Found existing installation: pydantic_core 2.33.2\n",
            "    Uninstalling pydantic_core-2.33.2:\n",
            "      Successfully uninstalled pydantic_core-2.33.2\n",
            "  Attempting uninstall: packaging\n",
            "    Found existing installation: packaging 25.0\n",
            "    Uninstalling packaging-25.0:\n",
            "      Successfully uninstalled packaging-25.0\n",
            "  Attempting uninstall: numpy\n",
            "    Found existing installation: numpy 2.0.2\n",
            "    Uninstalling numpy-2.0.2:\n",
            "      Successfully uninstalled numpy-2.0.2\n",
            "  Attempting uninstall: pydantic\n",
            "    Found existing installation: pydantic 2.11.7\n",
            "    Uninstalling pydantic-2.11.7:\n",
            "      Successfully uninstalled pydantic-2.11.7\n",
            "  Attempting uninstall: langsmith\n",
            "    Found existing installation: langsmith 0.4.14\n",
            "    Uninstalling langsmith-0.4.14:\n",
            "      Successfully uninstalled langsmith-0.4.14\n",
            "  Attempting uninstall: langchain-core\n",
            "    Found existing installation: langchain-core 0.3.74\n",
            "    Uninstalling langchain-core-0.3.74:\n",
            "      Successfully uninstalled langchain-core-0.3.74\n",
            "  Attempting uninstall: langchain-text-splitters\n",
            "    Found existing installation: langchain-text-splitters 0.3.9\n",
            "    Uninstalling langchain-text-splitters-0.3.9:\n",
            "      Successfully uninstalled langchain-text-splitters-0.3.9\n",
            "  Attempting uninstall: langchain\n",
            "    Found existing installation: langchain 0.3.27\n",
            "    Uninstalling langchain-0.3.27:\n",
            "      Successfully uninstalled langchain-0.3.27\n",
            "\u001b[31mERROR: pip's dependency resolver does not currently take into account all the packages that are installed. This behaviour is the source of the following dependency conflicts.\n",
            "opencv-contrib-python 4.12.0.88 requires numpy<2.3.0,>=2; python_version >= \"3.9\", but you have numpy 1.26.4 which is incompatible.\n",
            "opencv-python 4.12.0.88 requires numpy<2.3.0,>=2; python_version >= \"3.9\", but you have numpy 1.26.4 which is incompatible.\n",
            "thinc 8.3.6 requires numpy<3.0.0,>=2.0.0, but you have numpy 1.26.4 which is incompatible.\n",
            "opencv-python-headless 4.12.0.88 requires numpy<2.3.0,>=2; python_version >= \"3.9\", but you have numpy 1.26.4 which is incompatible.\u001b[0m\u001b[31m\n",
            "\u001b[0mSuccessfully installed langchain-0.3.0 langchain-core-0.3.63 langchain-openai-0.2.0 langchain-text-splitters-0.3.8 langgraph-0.2.22 langgraph-checkpoint-1.0.12 langsmith-0.1.147 numpy-1.26.4 packaging-24.2 pydantic-2.10.6 pydantic-core-2.27.2 tenacity-8.5.0\n"
          ]
        },
        {
          "output_type": "display_data",
          "data": {
            "application/vnd.colab-display-data+json": {
              "pip_warning": {
                "packages": [
                  "numpy",
                  "packaging"
                ]
              },
              "id": "bf0835cdde224ae2a61461b900236a3d"
            }
          },
          "metadata": {}
        }
      ],
      "source": [
        "!pip install langchain==0.3.0 langchain-openai==0.2.0 langgraph==0.2.22 pydantic==2.10.6"
      ]
    },
    {
      "cell_type": "code",
      "execution_count": 1,
      "metadata": {
        "id": "DuIs2Gb9Vxty"
      },
      "outputs": [],
      "source": [
        "import os\n",
        "from google.colab import userdata\n",
        "\n",
        "os.environ[\"OPENAI_API_KEY\"] = userdata.get(\"OPENAI_API_KEY\")\n",
        "# os.environ[\"LANGCHAIN_TRACING_V2\"] = \"true\"\n",
        "# os.environ[\"LANGCHAIN_ENDPOINT\"] = \"https://api.smith.langchain.com\"\n",
        "# os.environ[\"LANGCHAIN_API_KEY\"] = userdata.get(\"LANGCHAIN_API_KEY\")\n",
        "# os.environ[\"LANGCHAIN_PROJECT\"] = \"agent-book\""
      ]
    },
    {
      "cell_type": "code",
      "execution_count": 2,
      "metadata": {
        "id": "8QyOxN8UVxt0"
      },
      "outputs": [],
      "source": [
        "ROLES = {\n",
        "    \"1\": {\n",
        "        \"name\": \"一般知識エキスパート\",\n",
        "        \"description\": \"幅広い分野の一般的な質問に答える\",\n",
        "        \"details\": \"幅広い分野の一般的な質問に対して、正確で分かりやすい回答を提供してください。\"\n",
        "    },\n",
        "    \"2\": {\n",
        "        \"name\": \"生成AI製品エキスパート\",\n",
        "        \"description\": \"生成AIや関連製品、技術に関する専門的な質問に答える\",\n",
        "        \"details\": \"生成AIや関連製品、技術に関する専門的な質問に対して、最新の情報と深い洞察を提供してください。\"\n",
        "    },\n",
        "    \"3\": {\n",
        "        \"name\": \"カウンセラー\",\n",
        "        \"description\": \"個人的な悩みや心理的な問題に対してサポートを提供する\",\n",
        "        \"details\": \"個人的な悩みや心理的な問題に対して、共感的で支援的な回答を提供し、可能であれば適切なアドバイスも行ってください。\"\n",
        "    }\n",
        "}"
      ]
    },
    {
      "cell_type": "code",
      "execution_count": 3,
      "metadata": {
        "id": "IUKYnXpRVxt2"
      },
      "outputs": [],
      "source": [
        "import operator\n",
        "from typing import Annotated\n",
        "\n",
        "from pydantic import BaseModel, Field\n",
        "\n",
        "\n",
        "class State(BaseModel):\n",
        "    query: str = Field(..., description=\"ユーザーからの質問\")\n",
        "    current_role: str = Field(\n",
        "        default=\"\", description=\"選定された回答ロール\"\n",
        "    )\n",
        "    messages: Annotated[list[str], operator.add] = Field(\n",
        "        default=[], description=\"回答履歴\"\n",
        "    )\n",
        "    current_judge: bool = Field(\n",
        "        default=False, description=\"品質チェックの結果\"\n",
        "    )\n",
        "    judgement_reason: str = Field(\n",
        "        default=\"\", description=\"品質チェックの判定理由\"\n",
        "    )"
      ]
    },
    {
      "cell_type": "code",
      "execution_count": 16,
      "metadata": {
        "id": "edPcuuHiVxt2"
      },
      "outputs": [],
      "source": [
        "from langchain_openai import ChatOpenAI\n",
        "from langchain_core.runnables import ConfigurableField\n",
        "\n",
        "# モデル変更4o→\n",
        "llm = ChatOpenAI(model=\"gpt-5-nano\", temperature=1)\n",
        "# 後からmax_tokensの値を変更できるように、変更可能なフィールドを宣言\n",
        "llm = llm.configurable_fields(max_tokens=ConfigurableField(id='max_completion_tokens'))"
      ]
    },
    {
      "cell_type": "code",
      "execution_count": 17,
      "metadata": {
        "id": "uIxCWzxBVxt3"
      },
      "outputs": [],
      "source": [
        "from typing import Any\n",
        "\n",
        "from langchain_core.prompts import ChatPromptTemplate\n",
        "from langchain_core.output_parsers import StrOutputParser\n",
        "\n",
        "def selection_node(state: State) -> dict[str, Any]:\n",
        "    query = state.query\n",
        "    role_options = \"\\n\".join([f\"{k}. {v['name']}: {v['description']}\" for k, v in ROLES.items()])\n",
        "    prompt = ChatPromptTemplate.from_template(\n",
        "\"\"\"質問を分析し、最も適切な回答担当ロールを選択してください。\n",
        "\n",
        "選択肢:\n",
        "{role_options}\n",
        "\n",
        "回答は選択肢の番号（1、2、または3）のみを返してください。\n",
        "\n",
        "質問: {query}\n",
        "\"\"\".strip()\n",
        "    )\n",
        "    # 選択肢の番号のみを返すことを期待したいため、max_tokensの値を1に変更\n",
        "    chain = prompt | llm.with_config(configurable=dict(max_tokens=1)) | StrOutputParser()\n",
        "    role_number = chain.invoke({\"role_options\": role_options, \"query\": query})\n",
        "\n",
        "    selected_role = ROLES[role_number.strip()][\"name\"]\n",
        "    return {\"current_role\": selected_role}"
      ]
    },
    {
      "cell_type": "code",
      "execution_count": 18,
      "metadata": {
        "id": "AXVXCHR7Vxt4"
      },
      "outputs": [],
      "source": [
        "def answering_node(state: State) -> dict[str, Any]:\n",
        "    query = state.query\n",
        "    role = state.current_role\n",
        "    role_details = \"\\n\".join([f\"- {v['name']}: {v['details']}\" for v in ROLES.values()])\n",
        "    prompt = ChatPromptTemplate.from_template(\n",
        "\"\"\"あなたは{role}として回答してください。以下の質問に対して、あなたの役割に基づいた適切な回答を提供してください。\n",
        "\n",
        "役割の詳細:\n",
        "{role_details}\n",
        "\n",
        "質問: {query}\n",
        "\n",
        "回答:\"\"\".strip()\n",
        "    )\n",
        "    chain = prompt | llm | StrOutputParser()\n",
        "    answer = chain.invoke({\"role\": role, \"role_details\": role_details, \"query\": query})\n",
        "    return {\"messages\": [answer]}"
      ]
    },
    {
      "cell_type": "code",
      "execution_count": 19,
      "metadata": {
        "id": "mMRnW1E3Vxt6"
      },
      "outputs": [],
      "source": [
        "class Judgement(BaseModel):\n",
        "    judge: bool = Field(default=False, description=\"判定結果\")\n",
        "    reason: str = Field(default=\"\", description=\"判定理由\")\n",
        "\n",
        "def check_node(state: State) -> dict[str, Any]:\n",
        "    query = state.query\n",
        "    answer = state.messages[-1]\n",
        "    prompt = ChatPromptTemplate.from_template(\n",
        "\"\"\"以下の回答の品質をチェックし、問題がある場合は'False'、問題がない場合は'True'を回答してください。\n",
        "また、その判断理由も説明してください。\n",
        "\n",
        "ユーザーからの質問: {query}\n",
        "回答: {answer}\n",
        "\"\"\".strip()\n",
        "    )\n",
        "    chain = prompt | llm.with_structured_output(Judgement)\n",
        "    result: Judgement = chain.invoke({\"query\": query, \"answer\": answer})\n",
        "\n",
        "    return {\n",
        "        \"current_judge\": result.judge,\n",
        "        \"judgement_reason\": result.reason\n",
        "    }"
      ]
    },
    {
      "cell_type": "code",
      "execution_count": 20,
      "metadata": {
        "id": "ceaXZNj1Vxt6"
      },
      "outputs": [],
      "source": [
        "from langgraph.graph import StateGraph\n",
        "\n",
        "workflow = StateGraph(State)"
      ]
    },
    {
      "cell_type": "code",
      "execution_count": 21,
      "metadata": {
        "id": "BbTQ0EJBVxt7"
      },
      "outputs": [],
      "source": [
        "workflow.add_node(\"selection\", selection_node)\n",
        "workflow.add_node(\"answering\", answering_node)\n",
        "workflow.add_node(\"check\", check_node)"
      ]
    },
    {
      "cell_type": "code",
      "execution_count": 22,
      "metadata": {
        "id": "ULvAa2dpVxt8"
      },
      "outputs": [],
      "source": [
        "# selectionノードから処理を開始\n",
        "workflow.set_entry_point(\"selection\")"
      ]
    },
    {
      "cell_type": "code",
      "execution_count": 23,
      "metadata": {
        "id": "oPgncnC9Vxt8"
      },
      "outputs": [],
      "source": [
        "# selectionノードからansweringノードへ\n",
        "workflow.add_edge(\"selection\", \"answering\")\n",
        "# answeringノードからcheckノードへ\n",
        "workflow.add_edge(\"answering\", \"check\")"
      ]
    },
    {
      "cell_type": "code",
      "execution_count": 24,
      "metadata": {
        "id": "9ly_PoreVxt9"
      },
      "outputs": [],
      "source": [
        "from langgraph.graph import END\n",
        "\n",
        "# checkノードから次のノードへの遷移に条件付きエッジを定義\n",
        "# state.current_judgeの値がTrueならENDノードへ、Falseならselectionノードへ\n",
        "workflow.add_conditional_edges(\n",
        "    \"check\",\n",
        "    lambda state: state.current_judge,\n",
        "    {True: END, False: \"selection\"}\n",
        ")"
      ]
    },
    {
      "cell_type": "code",
      "execution_count": 25,
      "metadata": {
        "id": "l3KuYIYtVxt9"
      },
      "outputs": [],
      "source": [
        "compiled = workflow.compile()"
      ]
    },
    {
      "cell_type": "code",
      "execution_count": 26,
      "metadata": {
        "id": "6DXArNRzVxt-"
      },
      "outputs": [],
      "source": [
        "initial_state = State(query=\"生成AIについて教えてください\")\n",
        "result = compiled.invoke(initial_state)"
      ]
    },
    {
      "cell_type": "code",
      "execution_count": 27,
      "metadata": {
        "colab": {
          "base_uri": "https://localhost:8080/"
        },
        "id": "Qwt-0ZXqVxt-",
        "outputId": "18a1676c-f8b7-4fcc-8c13-b33a1442efa0"
      },
      "outputs": [
        {
          "output_type": "execute_result",
          "data": {
            "text/plain": [
              "{'query': '生成AIについて教えてください',\n",
              " 'current_role': '一般知識エキスパート',\n",
              " 'messages': ['生成AIは、データから新しいコンテンツを自動的に作り出す人工知能の総称です。テキスト、画像、音声、動画、コードなど、さまざまな形式の「新規作成」を高速かつ高品質に行える技術のことを指します。近年は大規模言語モデル（LLM）や拡散モデル、音声モデルなどが組み合わさって、実用性と創造性の両方を高めています。\\n\\n以下、一般知識としての要点と、生成AI製品を使う際の実践的な視点を整理します。\\n\\n1) 生成AIの仕組みと代表的な技術\\n- コアとなるモデル\\n  - 大規模言語モデル（LLM）: 文を連続的に生成する autoregressive な仕組み。例: テキスト生成、要約、翻訳、質問応答など。\\n  - 拡散モデル: ノイズを徐々に除去して高品質な画像や音声を生成。画像生成で特に普及。\\n  - 自動符号化/生成系: VAE（Variational Autoencoder）型や組み合わせモデルも利用される。\\n- 学習の基本\\n  - 自己教師付き学習（self-supervised）で大量のデータから「次に来る語を予測する」「ノイズを元に戻す」などのタスクを学習。\\n  - 指示に従う能力を高めるための「インストラクションチューニング」や、実世界のタスク適応のための「RLHF（Reinforcement Learning from Human Feedback）」などを用いることが多い。\\n- Prompt（プロンプト）と出力の制御\\n  - プロンプト設計（prompt engineering）により、出力の形式、長さ、トーン、信頼性をある程度操作可能。\\n  - 温度設定、トップ-p、ビーム探索などのパラメータで創造性と信頼性のバランスを調整。\\n\\n2) 学習データと倫理・法的な留意点\\n- 学習データの出典と権利\\n  - 大規模データセットにはウェブ上の公開テキスト、書籍、コード、画像などが含まれることが多く、著作権やデータプライバシー、データ出典の適法性が重要な議論点です。\\n- 出力の信頼性とリスク\\n  - 「ハルシネーション」（事実と異なる情報の生成）、偏見、プライバシー侵害のリスクがあります。\\n- 著作権・利用権\\n  - 生成物の著作権の扱い、訓練データに基づく盗用の懸念など、分野ごとに法的な解釈が変わる場合があります。\\n\\n3) 主な用途と具体例\\n- テキスト系\\n  - 記事・ブログの執筆支援、要約、翻訳、質問応答、アイデア出し、教育コンテンツ作成、コードの自動生成・補完（GitHub Copilot など）。\\n- 画像・デザイン系\\n  - アイデアの可視化、ディスプレイや広告用画像の生成、デザインのプロトタイピング、スタイル変換。\\n- 音声・音楽系\\n  - 音声合成、BGM生成、ナレーションの自動作成、音声翻訳の前処理。\\n- コード・ソフトウェア\\n  - コード生成・デバッグ支援、リファクタリング提案、テストケースの生成。\\n- 動画・3D\\n  - 簡易な動画生成、3Dモデリングの補助、モーションキャプチャの補助作業。\\n\\n4) 生成AIを使う際の実践的ポイント\\n- 目的を明確にする\\n  - 何を達成したいのか、出力の形式・長さ・トーンを事前に決める。\\n- 入力を整える\\n  - コンテキストを与える、例を示す、前提条件を明示するなど、出力品質を高める工夫をする。\\n- 出力の検証と編集を組み込む\\n  - 生成物をそのまま使うのではなく、事実性の確認、倫理・法的チェック、必要な修正を行うプロセスを設ける。\\n- 安全とガバナンス\\n  - 機微な情報（個人情報、機密情報、感度の高いデータ）を扱わない、出力が誤情報になっていないか常に監視する、社内ルールや法規制を遵守する。\\n- ユーザー体験の設計\\n  - プラグインやツール連携、マルチモーダル対応（テキスト＋画像＋音声など）を活用して、実務に即したワークフローを作る。\\n\\n5) 主な製品・エコシステムの動向（代表例）\\n- 言語モデル\\n  - 大手企業が提供する統合型AI（例: GPT-4系、Claude系、Gemini系、Llama系の商用・オープンソース版）。\\n- 画像・映像生成\\n  - DALL-E、Stable Diffusion、Midjourney などの世代が進化。拡張機能やライセンスの調整が進行中。\\n- コード生成\\n  - GitHub Copilot、GitHub Copilot X、Codeium など、エンジニアリングの補助ツールとして普及。\\n- 音声・対話\\n  - Whisper などの音声認識と、TTS（テキスト読み上げ）技術の組み合わせで、対話体験を強化。\\n- ツール連携\\n  - プラグイン・ツールチェーンを介して、外部データベース検索、実行環境の操作、ウェブブラウジングなどの機能を統合する動きが活発。\\n\\n6) 倫理・社会的な留意点\\n- 偏りと公平性\\n  - 訓練データの偏りを反映することがあるため、特定の集団に対する差別的出力を避ける設計が求められます。\\n- ディープフェイクと偽情報\\n  - 画像・音声・動画の偽造が拡大するリスクがあるため、検証と検出の技術、透明性の確保が重要です。\\n- データプライバシーとセキュリティ\\n  - 機密情報や個人データの取り扱いには特に注意が必要。クラウド上の生成AI利用時はデータ送信の可否を管理する。\\n- 環境負荷\\n  - 大規模モデルの訓練・推論には大量の計算資源が必要で、エネルギー消費や温室効果ガスの排出も課題です。\\n\\n7) 未来の展望（現在の動向を踏まえた見通し）\\n- マルチモーダルとエージェント化の進展\\n  - テキスト以外のデータ（画像・音声・動画・コード）を横断的に扱い、ツールを使ってタスクを「自走的」に解決するエージェント的AIの普及が進む見込み。\\n- 品質・安全性の向上\\n  - 出力の信頼性、事実性の検証、偏りの軽減、すべての産業での適用性を高めるための規格化やガバナンスの整備が進む。\\n- ビジネスモデルの多様化\\n  - API課金、プラグインエコシステム、企業内AIの導入（オンプレミス／ハイブリッド）、セキュアなデプロイメントの需要が増える。\\n\\n8) 個人・組織が取り組むための実践ガイド\\n- 自分に合った使い方を見つける\\n  - 自分の業務プロセスのどこを自動化・補助できるかを棚卸しする。\\n- 試して学ぶ\\n  - 無料トライアルや小さなプロジェクトから開始して、出力の品質・制御方法を体感する。\\n- セーフティネットを組む\\n  - 出力の検証手順、著作権・倫理のチェックリスト、データの扱いルールを明確化する。\\n- 学習とスキルの補完\\n  - 生成AIだけに頼らず、クリティカルシンキング、データソースの評価、データリテラシー、ソフトウェア開発・デザインの基礎を併せて磨くと価値が高まります。\\n\\nもし関心がある分野があれば教えてください。例えば:\\n- 仕事での具体的な活用方法（業務別の活用アイデア）\\n- 技術の仕組みをもう少し詳しく（モデルのアーキテクチャ、学習手法の解説）\\n- 安全性・倫理のガイドライン作成方法\\n- 初心者向けの使い方ガイド（プロンプト設計の基本、実例付き）\\n\\n個人的な悩みや不安がある場合は、それについてもお話ください。生成AIの導入や学習で感じる不安を一緒に整理し、現実的な対処法を考えましょう。'],\n",
              " 'current_judge': True,\n",
              " 'judgement_reason': 'この回答は生成AIの仕組み・技術・倫理・用途・実践ポイント・製品動向・未来展望まで幅広く網羅しており、事実関係も概ね正確。特に主要技術（LLM、拡散モデル、VAE）、学習手法（自己教師付き、RLHF）、プロンプト設計、安全性・法的留意点、実務ガイドなどを適切に整理している。若干の詳細説明や例の追加余地はあるが、品質は高い。'}"
            ]
          },
          "metadata": {},
          "execution_count": 27
        }
      ],
      "source": [
        "result"
      ]
    },
    {
      "cell_type": "code",
      "execution_count": 28,
      "metadata": {
        "colab": {
          "base_uri": "https://localhost:8080/"
        },
        "id": "uZS7c_r5Vxt_",
        "outputId": "3a0d5cee-9b8a-4c07-a5a3-0914f1701b6d"
      },
      "outputs": [
        {
          "output_type": "stream",
          "name": "stdout",
          "text": [
            "生成AIは、データから新しいコンテンツを自動的に作り出す人工知能の総称です。テキスト、画像、音声、動画、コードなど、さまざまな形式の「新規作成」を高速かつ高品質に行える技術のことを指します。近年は大規模言語モデル（LLM）や拡散モデル、音声モデルなどが組み合わさって、実用性と創造性の両方を高めています。\n",
            "\n",
            "以下、一般知識としての要点と、生成AI製品を使う際の実践的な視点を整理します。\n",
            "\n",
            "1) 生成AIの仕組みと代表的な技術\n",
            "- コアとなるモデル\n",
            "  - 大規模言語モデル（LLM）: 文を連続的に生成する autoregressive な仕組み。例: テキスト生成、要約、翻訳、質問応答など。\n",
            "  - 拡散モデル: ノイズを徐々に除去して高品質な画像や音声を生成。画像生成で特に普及。\n",
            "  - 自動符号化/生成系: VAE（Variational Autoencoder）型や組み合わせモデルも利用される。\n",
            "- 学習の基本\n",
            "  - 自己教師付き学習（self-supervised）で大量のデータから「次に来る語を予測する」「ノイズを元に戻す」などのタスクを学習。\n",
            "  - 指示に従う能力を高めるための「インストラクションチューニング」や、実世界のタスク適応のための「RLHF（Reinforcement Learning from Human Feedback）」などを用いることが多い。\n",
            "- Prompt（プロンプト）と出力の制御\n",
            "  - プロンプト設計（prompt engineering）により、出力の形式、長さ、トーン、信頼性をある程度操作可能。\n",
            "  - 温度設定、トップ-p、ビーム探索などのパラメータで創造性と信頼性のバランスを調整。\n",
            "\n",
            "2) 学習データと倫理・法的な留意点\n",
            "- 学習データの出典と権利\n",
            "  - 大規模データセットにはウェブ上の公開テキスト、書籍、コード、画像などが含まれることが多く、著作権やデータプライバシー、データ出典の適法性が重要な議論点です。\n",
            "- 出力の信頼性とリスク\n",
            "  - 「ハルシネーション」（事実と異なる情報の生成）、偏見、プライバシー侵害のリスクがあります。\n",
            "- 著作権・利用権\n",
            "  - 生成物の著作権の扱い、訓練データに基づく盗用の懸念など、分野ごとに法的な解釈が変わる場合があります。\n",
            "\n",
            "3) 主な用途と具体例\n",
            "- テキスト系\n",
            "  - 記事・ブログの執筆支援、要約、翻訳、質問応答、アイデア出し、教育コンテンツ作成、コードの自動生成・補完（GitHub Copilot など）。\n",
            "- 画像・デザイン系\n",
            "  - アイデアの可視化、ディスプレイや広告用画像の生成、デザインのプロトタイピング、スタイル変換。\n",
            "- 音声・音楽系\n",
            "  - 音声合成、BGM生成、ナレーションの自動作成、音声翻訳の前処理。\n",
            "- コード・ソフトウェア\n",
            "  - コード生成・デバッグ支援、リファクタリング提案、テストケースの生成。\n",
            "- 動画・3D\n",
            "  - 簡易な動画生成、3Dモデリングの補助、モーションキャプチャの補助作業。\n",
            "\n",
            "4) 生成AIを使う際の実践的ポイント\n",
            "- 目的を明確にする\n",
            "  - 何を達成したいのか、出力の形式・長さ・トーンを事前に決める。\n",
            "- 入力を整える\n",
            "  - コンテキストを与える、例を示す、前提条件を明示するなど、出力品質を高める工夫をする。\n",
            "- 出力の検証と編集を組み込む\n",
            "  - 生成物をそのまま使うのではなく、事実性の確認、倫理・法的チェック、必要な修正を行うプロセスを設ける。\n",
            "- 安全とガバナンス\n",
            "  - 機微な情報（個人情報、機密情報、感度の高いデータ）を扱わない、出力が誤情報になっていないか常に監視する、社内ルールや法規制を遵守する。\n",
            "- ユーザー体験の設計\n",
            "  - プラグインやツール連携、マルチモーダル対応（テキスト＋画像＋音声など）を活用して、実務に即したワークフローを作る。\n",
            "\n",
            "5) 主な製品・エコシステムの動向（代表例）\n",
            "- 言語モデル\n",
            "  - 大手企業が提供する統合型AI（例: GPT-4系、Claude系、Gemini系、Llama系の商用・オープンソース版）。\n",
            "- 画像・映像生成\n",
            "  - DALL-E、Stable Diffusion、Midjourney などの世代が進化。拡張機能やライセンスの調整が進行中。\n",
            "- コード生成\n",
            "  - GitHub Copilot、GitHub Copilot X、Codeium など、エンジニアリングの補助ツールとして普及。\n",
            "- 音声・対話\n",
            "  - Whisper などの音声認識と、TTS（テキスト読み上げ）技術の組み合わせで、対話体験を強化。\n",
            "- ツール連携\n",
            "  - プラグイン・ツールチェーンを介して、外部データベース検索、実行環境の操作、ウェブブラウジングなどの機能を統合する動きが活発。\n",
            "\n",
            "6) 倫理・社会的な留意点\n",
            "- 偏りと公平性\n",
            "  - 訓練データの偏りを反映することがあるため、特定の集団に対する差別的出力を避ける設計が求められます。\n",
            "- ディープフェイクと偽情報\n",
            "  - 画像・音声・動画の偽造が拡大するリスクがあるため、検証と検出の技術、透明性の確保が重要です。\n",
            "- データプライバシーとセキュリティ\n",
            "  - 機密情報や個人データの取り扱いには特に注意が必要。クラウド上の生成AI利用時はデータ送信の可否を管理する。\n",
            "- 環境負荷\n",
            "  - 大規模モデルの訓練・推論には大量の計算資源が必要で、エネルギー消費や温室効果ガスの排出も課題です。\n",
            "\n",
            "7) 未来の展望（現在の動向を踏まえた見通し）\n",
            "- マルチモーダルとエージェント化の進展\n",
            "  - テキスト以外のデータ（画像・音声・動画・コード）を横断的に扱い、ツールを使ってタスクを「自走的」に解決するエージェント的AIの普及が進む見込み。\n",
            "- 品質・安全性の向上\n",
            "  - 出力の信頼性、事実性の検証、偏りの軽減、すべての産業での適用性を高めるための規格化やガバナンスの整備が進む。\n",
            "- ビジネスモデルの多様化\n",
            "  - API課金、プラグインエコシステム、企業内AIの導入（オンプレミス／ハイブリッド）、セキュアなデプロイメントの需要が増える。\n",
            "\n",
            "8) 個人・組織が取り組むための実践ガイド\n",
            "- 自分に合った使い方を見つける\n",
            "  - 自分の業務プロセスのどこを自動化・補助できるかを棚卸しする。\n",
            "- 試して学ぶ\n",
            "  - 無料トライアルや小さなプロジェクトから開始して、出力の品質・制御方法を体感する。\n",
            "- セーフティネットを組む\n",
            "  - 出力の検証手順、著作権・倫理のチェックリスト、データの扱いルールを明確化する。\n",
            "- 学習とスキルの補完\n",
            "  - 生成AIだけに頼らず、クリティカルシンキング、データソースの評価、データリテラシー、ソフトウェア開発・デザインの基礎を併せて磨くと価値が高まります。\n",
            "\n",
            "もし関心がある分野があれば教えてください。例えば:\n",
            "- 仕事での具体的な活用方法（業務別の活用アイデア）\n",
            "- 技術の仕組みをもう少し詳しく（モデルのアーキテクチャ、学習手法の解説）\n",
            "- 安全性・倫理のガイドライン作成方法\n",
            "- 初心者向けの使い方ガイド（プロンプト設計の基本、実例付き）\n",
            "\n",
            "個人的な悩みや不安がある場合は、それについてもお話ください。生成AIの導入や学習で感じる不安を一緒に整理し、現実的な対処法を考えましょう。\n"
          ]
        }
      ],
      "source": [
        "print(result[\"messages\"][-1])"
      ]
    },
    {
      "cell_type": "code",
      "execution_count": 29,
      "metadata": {
        "colab": {
          "base_uri": "https://localhost:8080/"
        },
        "id": "kcRwZvupVxt_",
        "outputId": "809f199a-9f43-42c8-d665-aeb2b42962a7"
      },
      "outputs": [
        {
          "output_type": "execute_result",
          "data": {
            "text/plain": [
              "{'query': '生成AIについて教えてください',\n",
              " 'current_role': '生成AI製品エキスパート',\n",
              " 'messages': ['以下は、生成AI（Generative AI）について、生成AI製品エキスパートの視点からの解説と実務的なガイドです。必要に応じて、あなたの状況に合わせて深掘りします。\\n\\n1) 生成AIとは何か\\n- 定義: 大量のデータを元に、自然言語・画像・音声・コードなどの新しいデータを自動で生成するAI技術の総称。主に事前学習済みの大規模モデルを用いて、指示（プロンプト）に応じた出力を作り出します。\\n- 主な分野と出力形態:\\n  - テキスト生成: 記事要約、会話、翻訳、創作など\\n  - 画像生成・編集: イラスト、写真風画像の生成、スタイル変換\\n  - コード生成: 自動補完・新規コード作成・デバッグ支援\\n  - 音声・動画生成: 音声合成、動画の生成・編集\\n  - マルチモーダル: テキストと画像を組み合わせた出力、画像説明生成など\\n- 典型的な技術要素: トランスフォーマーモデル、拡散モデル、強化学習由来の制御（例: RLHF、RLAIF）、Retriever-augmented generation（RAG）など。\\n\\n2) 基本的な技術と設計のポイント\\n- モデルの種類と用途\\n  - LLM（大規模言語モデル）: テキスト中心の生成・理解\\n  - Diffusion系モデル: 高品質な画像生成\\n  - コードモデル: プログラミング支援\\n  - マルチモーダルモデル: 複数のデータ形態を統合\\n- 学習と適応\\n  - 事前学習（pretraining）と微調整（finetuning）、指示適合（instruction tuning）や安全性のための強化学習（RLHF/RLAIF）\\n  - Retrievalベースのアプローチ: 外部知識を取り込み、事実性を高める\\n- 出力の性質\\n  - ハルチュネーション（誤情報生成）のリスク\\n  - バイアス、差別、著作権・倫理問題の潜在性\\n  - セーフティとコンテンツポリシーの重要性\\n\\n3) 生成AIを製品化する際の実務ガイド\\n- ユースケース設計\\n  - 明確なペルソナとタスク定義、成功指標を最初に決める\\n  - 現場のワークフローに統合することで、導入効果を測定しやすくする\\n- データ戦略とガバナンス\\n  - 学習データの品質・多様性・権利処理を事前に確認\\n  - データカード・モデルカードで透明性を確保\\n  - プライバシーとセキュリティ対策（データ削除方針、最小権限、監査ログ）\\n- 安全性と倫理\\n  - コンテンツガバナンス、フィルタリング、出力制御\\n  - 偏見・差別の検出と修正プロセス\\n  - 著作権・ライセンスの確認と遵守\\n- アーキテクチャ選択\\n  - APIベースのサービス利用 vs 自前トレーニング済みモデルのホスティング\\n  - レイテンシ・コスト・データ所有権の要件に応じて選択\\n  - セキュリティ要件（機密データの扱い、オンプレ/クラウドの選択）\\n- 品質評価とメトリクス\\n  - 出力の正確性、信頼性、創造性のバランス指標\\n  - ユーザー満足度、タスク完遂率、エラー率、ハルチュネーション頻度\\n  - コンテンツポリシー違反の検出率・対応時間\\n- 運用とMLOps\\n  - モデルのデプロイ・監視・更新の仕組み（CI/CD、モデルデータのバージョン管理）\\n  - 監視指標とアラート設計（遅延、メモリ使用、出力品質の変動、悪用の兆候）\\n  - ログと説明性の確保（モデルの挙動を説明できる設計）\\n- コストとスケーラビリティ\\n  - 推論コスト、リクエストあたりの料金、ストレージ、データ転送\\n  - スケール戦略（必要時のみ呼び出す、キャッシュ、エッジ推論の検討）\\n- 法律・倫理・規制対応\\n  - 地域のデータ保護法、AI関連規制、透明性要件\\n  - 企業ポリシーとしての責任あるAIの運用フレームワーク\\n\\n4) 運用上の注意点とリスク対策\\n- 出力の信頼性の限界\\n  - 事実性を要するタスクは外部検証のプロセスを組み込む\\n  - 出力の根拠を示す説明性（データソースの参照、根拠の提示）を導入\\n- ハルチュネーションと偏見\\n  - 定期的な出力監査と偏見指標のモニタリング\\n  - ユーザ再現性の高いプロンプト設計と安全フィルタの併用\\n- セキュリティとプライバシー\\n  - 機密データの扱い方針、モデルへ送るデータの最小化\\n  - データ流出リスクの低減（オンデバイス推論やデータ脱識別などの選択肢）\\n- 法的リスク\\n  - コンテンツの生成権利や訴訟リスクを評価し、適切な利用規約と利用ポリシーを整備\\n- ユーザー体験の失敗例\\n  - 過度の自動化で人間の介入が不足し、品質が低下するケースを避けるためのヒューマン・イン・ザ・ループ（HITL）設計\\n\\n5) 実世界のユースケースの例（業種別）\\n- カスタマーサポート\\n  - 自然な応対のテンプレート生成、FAQの要約・更新、エスカレーションの支援\\n- コンテンツ作成\\n  - ブログ・ニュースレターの下書き、SEO最適化、画像キャプション生成\\n- ソフトウェア開発\\n  - コード補完・ドラフト生成、ドキュメント整備、テストケースの自動生成\\n- 教育・学習\\n  - 解説の要約、練習問題の作成、対話型チュータリング\\n- クリエイティブ\\n  - アイデア出し、ストーリーボード作成、デザイン補助\\n- データ処理・レポーティング\\n  - 自然言語によるデータ要約、定型レポートの自動生成\\n\\n6) 最新動向の概要（2024年時点の傾向に基づく一般論）\\n- マルチモーダルと対話性の強化\\n  - テキストと画像・音声を統合するモデルが増加。会話型のUIとの組み合わせが進行中。\\n- 安全性・公平性の優先順位の上昇\\n  - コンテンツポリシー、偏見・有害性対策、透明性強化の取り組みが企業の必須要件へ。\\n- データプライバシーとエッジ推論の需要\\n  - 機微データをクラウド送信せずに処理するニーズが高まる。\\n- 低リソース言語・地域展開の拡大\\n  - 学習データの多様性を広げ、地域言語対応を強化する動き。\\n- 専門領域での適応と「模倣学習」的アプローチ\\n  - 特定業務向けに微調整されたモデルの利用が増加。\\n\\n7) よくある質問とその答え（実践的ガイド）\\n- Q: 生成AIを導入する際の最初の一歩は？\\n  - A: 実現したいビジネス価値を明確化し、現場のワークフローを観察して、最小限の機能で効果を検証するスモールスタートを推奨。データ品質と安全性の前提条件を確保してから拡張。\\n- Q: 自前モデルとAPIのどちらを選ぶべきか？\\n  - A: 即時性とコスト、データ所有権の要件で判断。機密データを扱う、長期的なカスタマイズが重要なら自前モデル、迅速な市場投入とスケール優先ならAPIが有利。\\n- Q: 出力の品質が低いときの対処法は？\\n  - A: プロンプト設計の改善、RAGの導入、出力の検証とヒューマン・イン・ザ・ループの組み合わせ、モデルの微調整・データ拡充を検討。\\n- Q: 法的・倫理的リスクをどう管理する？\\n  - A: 事前に利用規約・ポリシーを整備、データガバナンスと権利処理を徹底、透明性を確保するドキュメントを整備。\\n\\n8) 導入のための簡易チェックリスト\\n- ユースケースと成功指標を定義\\n- データ品質・著作権・プライバシーの確認\\n- 安全性ポリシーと人間の介入設計を用意\\n- API vs 自前モデルの適切な選択を検討\\n- モニタリング指標とアラート設計を実装\\n- コンプライアンスと倫理ガバナンスを整備\\n- 小規模なパイロットを実施して効果とリスクを評価\\n\\n9) あなたへのサポート案（カウンセリング的視点）\\n- 不安や戸惑いを感じるのは自然なことです。生成AIは強力ですが、適切な設計とガバナンスでリスクを抑えつつ価値を引き出せます。\\n- 導入プロセスを段階的に進めると良いです。まずは小さなユースケースで定着させ、成功体験を積み重ねることで信頼を構築できます。\\n- チームワークを重視しましょう。現場、法務・セキュリティ、データ・倫理担当が協力して、共通のゴールとポリシーを共有することが成功の鍵です。\\n- もし不安点があれば、具体的な状況（業種、データの性質、求める出力、予算感など）を教えてください。リスクを可視化するための簡易評価表やロードマップを一緒に作成します。\\n\\nまとめ\\n生成AIは、適切な設計・ガバナンス・運用体制を整えることで、業務効率の向上、クリエイティブなアウトプットの拡大、意思決定の支援など、多様なビジネス価値を生み出せる強力な技術です。導入にはユースケースの明確化、データと安全性の確保、監視と改善の仕組みづくりが不可欠です。必要なら、あなたの現状に合わせた具体的なロードマップや評価指標の設計もお手伝いします。\\n\\n質問があれば、業界・用途・予算感など教えてください。より具体的な提案をお出しします。'],\n",
              " 'current_judge': True,\n",
              " 'judgement_reason': '全体として網羅性が高く、生成AIの定義・技術・設計・運用・倫理・法的リスク・実務ガイド・ユースケース・最新動向・FAQ・チェックリスト・サポート案を、実務視点で包括的に整理している。構成が論理的で、導入判断・設計・評価に直接役立つ情報が揃っている。補足として、表記の揺れ（例: ハルチュネーション）や用語の統一性、最新動向の地域・業界差は留意点として挙げられるが、品質を大きく損なうものではない。'}"
            ]
          },
          "metadata": {},
          "execution_count": 29
        }
      ],
      "source": [
        "initial_state = State(query=\"生成AIについて教えてください\")\n",
        "result = await compiled.ainvoke(initial_state)\n",
        "result"
      ]
    },
    {
      "cell_type": "code",
      "execution_count": 30,
      "metadata": {
        "colab": {
          "base_uri": "https://localhost:8080/"
        },
        "id": "SWJgYQT-Vxt_",
        "outputId": "4de4ee56-d997-4fa2-fa85-878ae9ab0264"
      },
      "outputs": [
        {
          "output_type": "stream",
          "name": "stdout",
          "text": [
            "Reading package lists... Done\n",
            "Building dependency tree... Done\n",
            "Reading state information... Done\n",
            "graphviz is already the newest version (2.42.2-6ubuntu0.1).\n",
            "The following packages were automatically installed and are no longer required:\n",
            "  libbz2-dev libpkgconf3 libreadline-dev\n",
            "Use 'apt autoremove' to remove them.\n",
            "The following additional packages will be installed:\n",
            "  libgail-common libgail18 libgtk2.0-0 libgtk2.0-bin libgtk2.0-common\n",
            "  libgvc6-plugins-gtk librsvg2-common libxdot4\n",
            "Suggested packages:\n",
            "  gvfs\n",
            "The following packages will be REMOVED:\n",
            "  pkgconf r-base-dev\n",
            "The following NEW packages will be installed:\n",
            "  libgail-common libgail18 libgraphviz-dev libgtk2.0-0 libgtk2.0-bin\n",
            "  libgtk2.0-common libgvc6-plugins-gtk librsvg2-common libxdot4 pkg-config\n",
            "0 upgraded, 10 newly installed, 2 to remove and 35 not upgraded.\n",
            "Need to get 2,482 kB of archives.\n",
            "After this operation, 7,671 kB of additional disk space will be used.\n",
            "Get:1 http://archive.ubuntu.com/ubuntu jammy/main amd64 pkg-config amd64 0.29.2-1ubuntu3 [48.2 kB]\n",
            "Get:2 http://archive.ubuntu.com/ubuntu jammy-updates/main amd64 libgtk2.0-common all 2.24.33-2ubuntu2.1 [125 kB]\n",
            "Get:3 http://archive.ubuntu.com/ubuntu jammy-updates/main amd64 libgtk2.0-0 amd64 2.24.33-2ubuntu2.1 [2,038 kB]\n",
            "Get:4 http://archive.ubuntu.com/ubuntu jammy-updates/main amd64 libgail18 amd64 2.24.33-2ubuntu2.1 [15.9 kB]\n",
            "Get:5 http://archive.ubuntu.com/ubuntu jammy-updates/main amd64 libgail-common amd64 2.24.33-2ubuntu2.1 [132 kB]\n",
            "Get:6 http://archive.ubuntu.com/ubuntu jammy-updates/universe amd64 libxdot4 amd64 2.42.2-6ubuntu0.1 [16.4 kB]\n",
            "Get:7 http://archive.ubuntu.com/ubuntu jammy-updates/universe amd64 libgvc6-plugins-gtk amd64 2.42.2-6ubuntu0.1 [22.5 kB]\n",
            "Get:8 http://archive.ubuntu.com/ubuntu jammy-updates/universe amd64 libgraphviz-dev amd64 2.42.2-6ubuntu0.1 [58.5 kB]\n",
            "Get:9 http://archive.ubuntu.com/ubuntu jammy-updates/main amd64 libgtk2.0-bin amd64 2.24.33-2ubuntu2.1 [7,936 B]\n",
            "Get:10 http://archive.ubuntu.com/ubuntu jammy-updates/main amd64 librsvg2-common amd64 2.52.5+dfsg-3ubuntu0.2 [17.7 kB]\n",
            "Fetched 2,482 kB in 1s (2,386 kB/s)\n",
            "(Reading database ... 126380 files and directories currently installed.)\n",
            "Removing r-base-dev (4.5.1-1.2204.0) ...\n",
            "dpkg: pkgconf: dependency problems, but removing anyway as you requested:\n",
            " libsndfile1-dev:amd64 depends on pkg-config; however:\n",
            "  Package pkg-config is not installed.\n",
            "  Package pkgconf which provides pkg-config is to be removed.\n",
            " libopencv-dev depends on pkg-config; however:\n",
            "  Package pkg-config is not installed.\n",
            "  Package pkgconf which provides pkg-config is to be removed.\n",
            " libmkl-dev:amd64 depends on pkg-config; however:\n",
            "  Package pkg-config is not installed.\n",
            "  Package pkgconf which provides pkg-config is to be removed.\n",
            " libjack-dev depends on pkg-config; however:\n",
            "  Package pkg-config is not installed.\n",
            "  Package pkgconf which provides pkg-config is to be removed.\n",
            " libgphoto2-dev:amd64 depends on pkg-config; however:\n",
            "  Package pkg-config is not installed.\n",
            "  Package pkgconf which provides pkg-config is to be removed.\n",
            " libglib2.0-dev:amd64 depends on pkg-config; however:\n",
            "  Package pkg-config is not installed.\n",
            "  Package pkgconf which provides pkg-config is to be removed.\n",
            " libfontconfig-dev:amd64 depends on pkg-config; however:\n",
            "  Package pkg-config is not installed.\n",
            "  Package pkgconf which provides pkg-config is to be removed.\n",
            "\n",
            "Removing pkgconf (1.8.0-1) ...\n",
            "Removing 'diversion of /usr/bin/pkg-config to /usr/bin/pkg-config.real by pkgconf'\n",
            "Removing 'diversion of /usr/share/aclocal/pkg.m4 to /usr/share/aclocal/pkg.real.m4 by pkgconf'\n",
            "Removing 'diversion of /usr/share/man/man1/pkg-config.1.gz to /usr/share/man/man1/pkg-config.real.1.gz by pkgconf'\n",
            "Removing 'diversion of /usr/share/pkg-config-crosswrapper to /usr/share/pkg-config-crosswrapper.real by pkgconf'\n",
            "Selecting previously unselected package pkg-config.\n",
            "(Reading database ... 126356 files and directories currently installed.)\n",
            "Preparing to unpack .../0-pkg-config_0.29.2-1ubuntu3_amd64.deb ...\n",
            "Unpacking pkg-config (0.29.2-1ubuntu3) ...\n",
            "Selecting previously unselected package libgtk2.0-common.\n",
            "Preparing to unpack .../1-libgtk2.0-common_2.24.33-2ubuntu2.1_all.deb ...\n",
            "Unpacking libgtk2.0-common (2.24.33-2ubuntu2.1) ...\n",
            "Selecting previously unselected package libgtk2.0-0:amd64.\n",
            "Preparing to unpack .../2-libgtk2.0-0_2.24.33-2ubuntu2.1_amd64.deb ...\n",
            "Unpacking libgtk2.0-0:amd64 (2.24.33-2ubuntu2.1) ...\n",
            "Selecting previously unselected package libgail18:amd64.\n",
            "Preparing to unpack .../3-libgail18_2.24.33-2ubuntu2.1_amd64.deb ...\n",
            "Unpacking libgail18:amd64 (2.24.33-2ubuntu2.1) ...\n",
            "Selecting previously unselected package libgail-common:amd64.\n",
            "Preparing to unpack .../4-libgail-common_2.24.33-2ubuntu2.1_amd64.deb ...\n",
            "Unpacking libgail-common:amd64 (2.24.33-2ubuntu2.1) ...\n",
            "Selecting previously unselected package libxdot4:amd64.\n",
            "Preparing to unpack .../5-libxdot4_2.42.2-6ubuntu0.1_amd64.deb ...\n",
            "Unpacking libxdot4:amd64 (2.42.2-6ubuntu0.1) ...\n",
            "Selecting previously unselected package libgvc6-plugins-gtk.\n",
            "Preparing to unpack .../6-libgvc6-plugins-gtk_2.42.2-6ubuntu0.1_amd64.deb ...\n",
            "Unpacking libgvc6-plugins-gtk (2.42.2-6ubuntu0.1) ...\n",
            "Selecting previously unselected package libgraphviz-dev:amd64.\n",
            "Preparing to unpack .../7-libgraphviz-dev_2.42.2-6ubuntu0.1_amd64.deb ...\n",
            "Unpacking libgraphviz-dev:amd64 (2.42.2-6ubuntu0.1) ...\n",
            "Selecting previously unselected package libgtk2.0-bin.\n",
            "Preparing to unpack .../8-libgtk2.0-bin_2.24.33-2ubuntu2.1_amd64.deb ...\n",
            "Unpacking libgtk2.0-bin (2.24.33-2ubuntu2.1) ...\n",
            "Selecting previously unselected package librsvg2-common:amd64.\n",
            "Preparing to unpack .../9-librsvg2-common_2.52.5+dfsg-3ubuntu0.2_amd64.deb ...\n",
            "Unpacking librsvg2-common:amd64 (2.52.5+dfsg-3ubuntu0.2) ...\n",
            "Setting up libxdot4:amd64 (2.42.2-6ubuntu0.1) ...\n",
            "Setting up pkg-config (0.29.2-1ubuntu3) ...\n",
            "Setting up librsvg2-common:amd64 (2.52.5+dfsg-3ubuntu0.2) ...\n",
            "Setting up libgtk2.0-common (2.24.33-2ubuntu2.1) ...\n",
            "Setting up libgtk2.0-0:amd64 (2.24.33-2ubuntu2.1) ...\n",
            "Setting up libgvc6-plugins-gtk (2.42.2-6ubuntu0.1) ...\n",
            "Setting up libgail18:amd64 (2.24.33-2ubuntu2.1) ...\n",
            "Setting up libgtk2.0-bin (2.24.33-2ubuntu2.1) ...\n",
            "Setting up libgail-common:amd64 (2.24.33-2ubuntu2.1) ...\n",
            "Setting up libgraphviz-dev:amd64 (2.42.2-6ubuntu0.1) ...\n",
            "Processing triggers for libc-bin (2.35-0ubuntu3.8) ...\n",
            "/sbin/ldconfig.real: /usr/local/lib/libtbbbind_2_5.so.3 is not a symbolic link\n",
            "\n",
            "/sbin/ldconfig.real: /usr/local/lib/libtcm_debug.so.1 is not a symbolic link\n",
            "\n",
            "/sbin/ldconfig.real: /usr/local/lib/libumf.so.0 is not a symbolic link\n",
            "\n",
            "/sbin/ldconfig.real: /usr/local/lib/libhwloc.so.15 is not a symbolic link\n",
            "\n",
            "/sbin/ldconfig.real: /usr/local/lib/libur_adapter_opencl.so.0 is not a symbolic link\n",
            "\n",
            "/sbin/ldconfig.real: /usr/local/lib/libtbbbind_2_0.so.3 is not a symbolic link\n",
            "\n",
            "/sbin/ldconfig.real: /usr/local/lib/libtbbmalloc.so.2 is not a symbolic link\n",
            "\n",
            "/sbin/ldconfig.real: /usr/local/lib/libtbbmalloc_proxy.so.2 is not a symbolic link\n",
            "\n",
            "/sbin/ldconfig.real: /usr/local/lib/libur_adapter_level_zero_v2.so.0 is not a symbolic link\n",
            "\n",
            "/sbin/ldconfig.real: /usr/local/lib/libtcm.so.1 is not a symbolic link\n",
            "\n",
            "/sbin/ldconfig.real: /usr/local/lib/libur_adapter_level_zero.so.0 is not a symbolic link\n",
            "\n",
            "/sbin/ldconfig.real: /usr/local/lib/libtbb.so.12 is not a symbolic link\n",
            "\n",
            "/sbin/ldconfig.real: /usr/local/lib/libur_loader.so.0 is not a symbolic link\n",
            "\n",
            "/sbin/ldconfig.real: /usr/local/lib/libtbbbind.so.3 is not a symbolic link\n",
            "\n",
            "Processing triggers for man-db (2.10.2-1) ...\n",
            "Processing triggers for libgdk-pixbuf-2.0-0:amd64 (2.42.8+dfsg-1ubuntu0.4) ...\n",
            "Collecting pygraphviz\n",
            "  Downloading pygraphviz-1.14.tar.gz (106 kB)\n",
            "\u001b[2K     \u001b[90m━━━━━━━━━━━━━━━━━━━━━━━━━━━━━━━━━━━━━━━\u001b[0m \u001b[32m106.0/106.0 kB\u001b[0m \u001b[31m3.0 MB/s\u001b[0m eta \u001b[36m0:00:00\u001b[0m\n",
            "\u001b[?25h  Installing build dependencies ... \u001b[?25l\u001b[?25hdone\n",
            "  Getting requirements to build wheel ... \u001b[?25l\u001b[?25hdone\n",
            "  Preparing metadata (pyproject.toml) ... \u001b[?25l\u001b[?25hdone\n",
            "Building wheels for collected packages: pygraphviz\n",
            "  Building wheel for pygraphviz (pyproject.toml) ... \u001b[?25l\u001b[?25hdone\n",
            "  Created wheel for pygraphviz: filename=pygraphviz-1.14-cp311-cp311-linux_x86_64.whl size=169718 sha256=201a86d75c2f4d33218aec42c1710ea8a8d3626c860ba9ca9128c233c3db053d\n",
            "  Stored in directory: /root/.cache/pip/wheels/9c/5f/df/6fffd2a4353f26dbb0e3672a1baf070c124a1d74a5f9318279\n",
            "Successfully built pygraphviz\n",
            "Installing collected packages: pygraphviz\n",
            "Successfully installed pygraphviz-1.14\n"
          ]
        }
      ],
      "source": [
        "!apt-get install graphviz libgraphviz-dev pkg-config\n",
        "!pip install pygraphviz"
      ]
    },
    {
      "cell_type": "code",
      "execution_count": 31,
      "metadata": {
        "colab": {
          "base_uri": "https://localhost:8080/",
          "height": 673
        },
        "id": "dsYeX45FVxt_",
        "outputId": "37a4a221-48c3-4717-96fe-a8800d3a25c3"
      },
      "outputs": [
        {
          "output_type": "execute_result",
          "data": {
            "image/png": "[encoded data removed]",
            "text/plain": [
              "<IPython.core.display.Image object>"
            ]
          },
          "metadata": {},
          "execution_count": 31
        }
      ],
      "source": [
        "from IPython.display import Image\n",
        "\n",
        "Image(compiled.get_graph().draw_png())"
      ]
    },
    {
      "cell_type": "markdown",
      "metadata": {
        "id": "5KbTmnF7VxuA"
      },
      "source": [
        "## 9.4 チェックポイント機能：ステートの永続化と再会"
      ]
    },
    {
      "cell_type": "code",
      "execution_count": 32,
      "metadata": {
        "colab": {
          "base_uri": "https://localhost:8080/",
          "height": 1000
        },
        "id": "CC77EwFtVxuA",
        "outputId": "e7bdfe6a-6d80-4803-8c3c-14e35587122d"
      },
      "outputs": [
        {
          "output_type": "stream",
          "name": "stdout",
          "text": [
            "Requirement already satisfied: langchain==0.3.0 in /usr/local/lib/python3.11/dist-packages (0.3.0)\n",
            "Requirement already satisfied: langchain-openai==0.2.0 in /usr/local/lib/python3.11/dist-packages (0.2.0)\n",
            "Requirement already satisfied: langgraph==0.2.22 in /usr/local/lib/python3.11/dist-packages (0.2.22)\n",
            "Collecting langgraph-checkpoint==1.0.11\n",
            "  Downloading langgraph_checkpoint-1.0.11-py3-none-any.whl.metadata (4.6 kB)\n",
            "Requirement already satisfied: PyYAML>=5.3 in /usr/local/lib/python3.11/dist-packages (from langchain==0.3.0) (6.0.2)\n",
            "Requirement already satisfied: SQLAlchemy<3,>=1.4 in /usr/local/lib/python3.11/dist-packages (from langchain==0.3.0) (2.0.43)\n",
            "Requirement already satisfied: aiohttp<4.0.0,>=3.8.3 in /usr/local/lib/python3.11/dist-packages (from langchain==0.3.0) (3.12.15)\n",
            "Requirement already satisfied: langchain-core<0.4.0,>=0.3.0 in /usr/local/lib/python3.11/dist-packages (from langchain==0.3.0) (0.3.63)\n",
            "Requirement already satisfied: langchain-text-splitters<0.4.0,>=0.3.0 in /usr/local/lib/python3.11/dist-packages (from langchain==0.3.0) (0.3.8)\n",
            "Requirement already satisfied: langsmith<0.2.0,>=0.1.17 in /usr/local/lib/python3.11/dist-packages (from langchain==0.3.0) (0.1.147)\n",
            "Requirement already satisfied: numpy<2,>=1 in /usr/local/lib/python3.11/dist-packages (from langchain==0.3.0) (1.26.4)\n",
            "Requirement already satisfied: pydantic<3.0.0,>=2.7.4 in /usr/local/lib/python3.11/dist-packages (from langchain==0.3.0) (2.10.6)\n",
            "Requirement already satisfied: requests<3,>=2 in /usr/local/lib/python3.11/dist-packages (from langchain==0.3.0) (2.32.3)\n",
            "Requirement already satisfied: tenacity!=8.4.0,<9.0.0,>=8.1.0 in /usr/local/lib/python3.11/dist-packages (from langchain==0.3.0) (8.5.0)\n",
            "Requirement already satisfied: openai<2.0.0,>=1.40.0 in /usr/local/lib/python3.11/dist-packages (from langchain-openai==0.2.0) (1.99.9)\n",
            "Requirement already satisfied: tiktoken<1,>=0.7 in /usr/local/lib/python3.11/dist-packages (from langchain-openai==0.2.0) (0.11.0)\n",
            "Requirement already satisfied: msgpack<2.0.0,>=1.1.0 in /usr/local/lib/python3.11/dist-packages (from langgraph-checkpoint==1.0.11) (1.1.1)\n",
            "Requirement already satisfied: aiohappyeyeballs>=2.5.0 in /usr/local/lib/python3.11/dist-packages (from aiohttp<4.0.0,>=3.8.3->langchain==0.3.0) (2.6.1)\n",
            "Requirement already satisfied: aiosignal>=1.4.0 in /usr/local/lib/python3.11/dist-packages (from aiohttp<4.0.0,>=3.8.3->langchain==0.3.0) (1.4.0)\n",
            "Requirement already satisfied: attrs>=17.3.0 in /usr/local/lib/python3.11/dist-packages (from aiohttp<4.0.0,>=3.8.3->langchain==0.3.0) (25.3.0)\n",
            "Requirement already satisfied: frozenlist>=1.1.1 in /usr/local/lib/python3.11/dist-packages (from aiohttp<4.0.0,>=3.8.3->langchain==0.3.0) (1.7.0)\n",
            "Requirement already satisfied: multidict<7.0,>=4.5 in /usr/local/lib/python3.11/dist-packages (from aiohttp<4.0.0,>=3.8.3->langchain==0.3.0) (6.6.4)\n",
            "Requirement already satisfied: propcache>=0.2.0 in /usr/local/lib/python3.11/dist-packages (from aiohttp<4.0.0,>=3.8.3->langchain==0.3.0) (0.3.2)\n",
            "Requirement already satisfied: yarl<2.0,>=1.17.0 in /usr/local/lib/python3.11/dist-packages (from aiohttp<4.0.0,>=3.8.3->langchain==0.3.0) (1.20.1)\n",
            "Requirement already satisfied: jsonpatch<2.0,>=1.33 in /usr/local/lib/python3.11/dist-packages (from langchain-core<0.4.0,>=0.3.0->langchain==0.3.0) (1.33)\n",
            "Requirement already satisfied: packaging<25,>=23.2 in /usr/local/lib/python3.11/dist-packages (from langchain-core<0.4.0,>=0.3.0->langchain==0.3.0) (24.2)\n",
            "Requirement already satisfied: typing-extensions>=4.7 in /usr/local/lib/python3.11/dist-packages (from langchain-core<0.4.0,>=0.3.0->langchain==0.3.0) (4.14.1)\n",
            "Requirement already satisfied: httpx<1,>=0.23.0 in /usr/local/lib/python3.11/dist-packages (from langsmith<0.2.0,>=0.1.17->langchain==0.3.0) (0.28.1)\n",
            "Requirement already satisfied: orjson<4.0.0,>=3.9.14 in /usr/local/lib/python3.11/dist-packages (from langsmith<0.2.0,>=0.1.17->langchain==0.3.0) (3.11.2)\n",
            "Requirement already satisfied: requests-toolbelt<2.0.0,>=1.0.0 in /usr/local/lib/python3.11/dist-packages (from langsmith<0.2.0,>=0.1.17->langchain==0.3.0) (1.0.0)\n",
            "Requirement already satisfied: anyio<5,>=3.5.0 in /usr/local/lib/python3.11/dist-packages (from openai<2.0.0,>=1.40.0->langchain-openai==0.2.0) (4.10.0)\n",
            "Requirement already satisfied: distro<2,>=1.7.0 in /usr/local/lib/python3.11/dist-packages (from openai<2.0.0,>=1.40.0->langchain-openai==0.2.0) (1.9.0)\n",
            "Requirement already satisfied: jiter<1,>=0.4.0 in /usr/local/lib/python3.11/dist-packages (from openai<2.0.0,>=1.40.0->langchain-openai==0.2.0) (0.10.0)\n",
            "Requirement already satisfied: sniffio in /usr/local/lib/python3.11/dist-packages (from openai<2.0.0,>=1.40.0->langchain-openai==0.2.0) (1.3.1)\n",
            "Requirement already satisfied: tqdm>4 in /usr/local/lib/python3.11/dist-packages (from openai<2.0.0,>=1.40.0->langchain-openai==0.2.0) (4.67.1)\n",
            "Requirement already satisfied: annotated-types>=0.6.0 in /usr/local/lib/python3.11/dist-packages (from pydantic<3.0.0,>=2.7.4->langchain==0.3.0) (0.7.0)\n",
            "Requirement already satisfied: pydantic-core==2.27.2 in /usr/local/lib/python3.11/dist-packages (from pydantic<3.0.0,>=2.7.4->langchain==0.3.0) (2.27.2)\n",
            "Requirement already satisfied: charset-normalizer<4,>=2 in /usr/local/lib/python3.11/dist-packages (from requests<3,>=2->langchain==0.3.0) (3.4.3)\n",
            "Requirement already satisfied: idna<4,>=2.5 in /usr/local/lib/python3.11/dist-packages (from requests<3,>=2->langchain==0.3.0) (3.10)\n",
            "Requirement already satisfied: urllib3<3,>=1.21.1 in /usr/local/lib/python3.11/dist-packages (from requests<3,>=2->langchain==0.3.0) (2.5.0)\n",
            "Requirement already satisfied: certifi>=2017.4.17 in /usr/local/lib/python3.11/dist-packages (from requests<3,>=2->langchain==0.3.0) (2025.8.3)\n",
            "Requirement already satisfied: greenlet>=1 in /usr/local/lib/python3.11/dist-packages (from SQLAlchemy<3,>=1.4->langchain==0.3.0) (3.2.4)\n",
            "Requirement already satisfied: regex>=2022.1.18 in /usr/local/lib/python3.11/dist-packages (from tiktoken<1,>=0.7->langchain-openai==0.2.0) (2024.11.6)\n",
            "Requirement already satisfied: httpcore==1.* in /usr/local/lib/python3.11/dist-packages (from httpx<1,>=0.23.0->langsmith<0.2.0,>=0.1.17->langchain==0.3.0) (1.0.9)\n",
            "Requirement already satisfied: h11>=0.16 in /usr/local/lib/python3.11/dist-packages (from httpcore==1.*->httpx<1,>=0.23.0->langsmith<0.2.0,>=0.1.17->langchain==0.3.0) (0.16.0)\n",
            "Requirement already satisfied: jsonpointer>=1.9 in /usr/local/lib/python3.11/dist-packages (from jsonpatch<2.0,>=1.33->langchain-core<0.4.0,>=0.3.0->langchain==0.3.0) (3.0.0)\n",
            "Downloading langgraph_checkpoint-1.0.11-py3-none-any.whl (17 kB)\n",
            "Installing collected packages: langgraph-checkpoint\n",
            "  Attempting uninstall: langgraph-checkpoint\n",
            "    Found existing installation: langgraph-checkpoint 1.0.12\n",
            "    Uninstalling langgraph-checkpoint-1.0.12:\n",
            "      Successfully uninstalled langgraph-checkpoint-1.0.12\n",
            "Successfully installed langgraph-checkpoint-1.0.11\n"
          ]
        },
        {
          "output_type": "display_data",
          "data": {
            "application/vnd.colab-display-data+json": {
              "pip_warning": {
                "packages": [
                  "langgraph"
                ]
              },
              "id": "833cf9391ed9460d8d23c2313aa94105"
            }
          },
          "metadata": {}
        }
      ],
      "source": [
        "!pip install langchain==0.3.0 langchain-openai==0.2.0 langgraph==0.2.22 langgraph-checkpoint==1.0.11"
      ]
    },
    {
      "cell_type": "code",
      "execution_count": 1,
      "metadata": {
        "id": "V0eFWdS1VxuA"
      },
      "outputs": [],
      "source": [
        "import os\n",
        "from google.colab import userdata\n",
        "\n",
        "os.environ[\"OPENAI_API_KEY\"] = userdata.get(\"OPENAI_API_KEY\")\n",
        "# os.environ[\"LANGCHAIN_TRACING_V2\"] = \"true\"\n",
        "# os.environ[\"LANGCHAIN_ENDPOINT\"] = \"https://api.smith.langchain.com\"\n",
        "# os.environ[\"LANGCHAIN_API_KEY\"] = userdata.get(\"LANGCHAIN_API_KEY\")\n",
        "# os.environ[\"LANGCHAIN_PROJECT\"] = \"agent-book\""
      ]
    },
    {
      "cell_type": "code",
      "execution_count": 3,
      "metadata": {
        "id": "LG_oEyQ5VxuB"
      },
      "outputs": [],
      "source": [
        "import operator\n",
        "from typing import Annotated, Any\n",
        "from langchain_core.messages import SystemMessage, HumanMessage, BaseMessage\n",
        "from langchain_openai import ChatOpenAI\n",
        "from pydantic import BaseModel, Field\n",
        "\n",
        "# グラフのステートを定義\n",
        "class State(BaseModel):\n",
        "    query: str\n",
        "    messages: Annotated[list[BaseMessage], operator.add] = Field(default=[])\n",
        "\n",
        "# メッセージを追加するノード関数\n",
        "def add_message(state: State) -> dict[str, Any]:\n",
        "    additional_messages = []\n",
        "    if not state.messages:\n",
        "        additional_messages.append(\n",
        "            SystemMessage(content=\"あなたは最小限の応答をする対話エージェントです。\")\n",
        "        )\n",
        "    additional_messages.append(HumanMessage(content=state.query))\n",
        "    return {\"messages\": additional_messages}\n",
        "\n",
        "# LLMからの応答を追加するノード関数\n",
        "def llm_response(state: State) -> dict[str, Any]:\n",
        "    llm = ChatOpenAI(model=\"gpt-5-nano-2025-08-07\", temperature=1)\n",
        "    ai_message = llm.invoke(state.messages)\n",
        "    return {\"messages\": [ai_message]}"
      ]
    },
    {
      "cell_type": "code",
      "execution_count": 4,
      "metadata": {
        "id": "xQuD0rQxVxuC"
      },
      "outputs": [],
      "source": [
        "from pprint import pprint\n",
        "from langchain_core.runnables import RunnableConfig\n",
        "from langgraph.checkpoint.base import BaseCheckpointSaver\n",
        "\n",
        "def print_checkpoint_dump(checkpointer: BaseCheckpointSaver, config: RunnableConfig):\n",
        "    checkpoint_tuple = checkpointer.get_tuple(config)\n",
        "\n",
        "    print(\"チェックポイントデータ:\")\n",
        "    pprint(checkpoint_tuple.checkpoint)\n",
        "    print(\"\\nメタデータ:\")\n",
        "    pprint(checkpoint_tuple.metadata)"
      ]
    },
    {
      "cell_type": "code",
      "execution_count": 5,
      "metadata": {
        "id": "ZFn2juL6VxuC"
      },
      "outputs": [],
      "source": [
        "from langgraph.graph import StateGraph, END\n",
        "from langgraph.checkpoint.memory import MemorySaver\n",
        "\n",
        "# グラフを設定\n",
        "graph = StateGraph(State)\n",
        "graph.add_node(\"add_message\", add_message)\n",
        "graph.add_node(\"llm_response\", llm_response)\n",
        "\n",
        "graph.set_entry_point(\"add_message\")\n",
        "graph.add_edge(\"add_message\", \"llm_response\")\n",
        "graph.add_edge(\"llm_response\", END)\n",
        "\n",
        "# チェックポインターを設定\n",
        "checkpointer = MemorySaver()\n",
        "\n",
        "# グラフをコンパイル\n",
        "compiled_graph = graph.compile(checkpointer=checkpointer)"
      ]
    },
    {
      "cell_type": "code",
      "execution_count": 6,
      "metadata": {
        "colab": {
          "base_uri": "https://localhost:8080/"
        },
        "id": "82pvkmmcVxuC",
        "outputId": "789490ec-6212-409c-91e4-5dd383fcc6be"
      },
      "outputs": [
        {
          "output_type": "execute_result",
          "data": {
            "text/plain": [
              "{'query': '私の好きなものはずんだ餅です。覚えておいてね。',\n",
              " 'messages': [SystemMessage(content='あなたは最小限の応答をする対話エージェントです。', additional_kwargs={}, response_metadata={}),\n",
              "  HumanMessage(content='私の好きなものはずんだ餅です。覚えておいてね。', additional_kwargs={}, response_metadata={}),\n",
              "  AIMessage(content='了解しました。ずんだ餅が好きなのですね。', additional_kwargs={'refusal': None}, response_metadata={'token_usage': {'completion_tokens': 342, 'prompt_tokens': 47, 'total_tokens': 389, 'completion_tokens_details': {'accepted_prediction_tokens': 0, 'audio_tokens': 0, 'reasoning_tokens': 320, 'rejected_prediction_tokens': 0}, 'prompt_tokens_details': {'audio_tokens': 0, 'cached_tokens': 0}}, 'model_name': 'gpt-5-nano-2025-08-07', 'system_fingerprint': None, 'finish_reason': 'stop', 'logprobs': None}, id='run--e475bd46-b490-483e-8f62-f2f2ebb60de8-0', usage_metadata={'input_tokens': 47, 'output_tokens': 342, 'total_tokens': 389})]}"
            ]
          },
          "metadata": {},
          "execution_count": 6
        }
      ],
      "source": [
        "config = {\"configurable\": {\"thread_id\": \"example-1\"}}\n",
        "user_query = State(query=\"私の好きなものはずんだ餅です。覚えておいてね。\")\n",
        "first_response = compiled_graph.invoke(user_query, config)\n",
        "first_response"
      ]
    },
    {
      "cell_type": "code",
      "execution_count": 7,
      "metadata": {
        "colab": {
          "base_uri": "https://localhost:8080/"
        },
        "id": "RabLlegMVxuD",
        "outputId": "e63c84c1-4a82-465c-c866-4924dc42a3fd"
      },
      "outputs": [
        {
          "output_type": "stream",
          "name": "stdout",
          "text": [
            "CheckpointTuple(config={'configurable': {'thread_id': 'example-1', 'checkpoint_ns': '', 'checkpoint_id': '1f07b374-29a5-690a-8002-df355abe453d'}}, checkpoint={'v': 1, 'ts': '2025-08-17T06:56:11.931447+00:00', 'id': '1f07b374-29a5-690a-8002-df355abe453d', 'channel_values': {'query': '私の好きなものはずんだ餅です。覚えておいてね。', 'messages': [SystemMessage(content='あなたは最小限の応答をする対話エージェントです。', additional_kwargs={}, response_metadata={}), HumanMessage(content='私の好きなものはずんだ餅です。覚えておいてね。', additional_kwargs={}, response_metadata={}), AIMessage(content='了解しました。ずんだ餅が好きなのですね。', additional_kwargs={'refusal': None}, response_metadata={'token_usage': {'completion_tokens': 342, 'prompt_tokens': 47, 'total_tokens': 389, 'completion_tokens_details': {'accepted_prediction_tokens': 0, 'audio_tokens': 0, 'reasoning_tokens': 320, 'rejected_prediction_tokens': 0}, 'prompt_tokens_details': {'audio_tokens': 0, 'cached_tokens': 0}}, 'model_name': 'gpt-5-nano-2025-08-07', 'system_fingerprint': None, 'finish_reason': 'stop', 'logprobs': None}, id='run--e475bd46-b490-483e-8f62-f2f2ebb60de8-0', usage_metadata={'input_tokens': 47, 'output_tokens': 342, 'total_tokens': 389})], 'llm_response': 'llm_response'}, 'channel_versions': {'__start__': '00000000000000000000000000000002.0.06960001327911214', 'query': '00000000000000000000000000000002.0.2708384151038363', 'messages': '00000000000000000000000000000004.0.1042163755278741', 'start:add_message': '00000000000000000000000000000003.0.8818252056382136', 'add_message': '00000000000000000000000000000004.0.14173965428194335', 'llm_response': '00000000000000000000000000000004.0.4447369149230459'}, 'versions_seen': {'__input__': {}, '__start__': {'__start__': '00000000000000000000000000000001.0.7710531270845292'}, 'add_message': {'start:add_message': '00000000000000000000000000000002.0.08938752943720563'}, 'llm_response': {'add_message': '00000000000000000000000000000003.0.3488317025685478'}}, 'pending_sends': []}, metadata={'source': 'loop', 'writes': {'llm_response': {'messages': [AIMessage(content='了解しました。ずんだ餅が好きなのですね。', additional_kwargs={'refusal': None}, response_metadata={'token_usage': {'completion_tokens': 342, 'prompt_tokens': 47, 'total_tokens': 389, 'completion_tokens_details': {'accepted_prediction_tokens': 0, 'audio_tokens': 0, 'reasoning_tokens': 320, 'rejected_prediction_tokens': 0}, 'prompt_tokens_details': {'audio_tokens': 0, 'cached_tokens': 0}}, 'model_name': 'gpt-5-nano-2025-08-07', 'system_fingerprint': None, 'finish_reason': 'stop', 'logprobs': None}, id='run--e475bd46-b490-483e-8f62-f2f2ebb60de8-0', usage_metadata={'input_tokens': 47, 'output_tokens': 342, 'total_tokens': 389})]}}, 'step': 2, 'parents': {}}, parent_config={'configurable': {'thread_id': 'example-1', 'checkpoint_ns': '', 'checkpoint_id': '1f07b374-01b7-6320-8001-ee6906344f2a'}}, pending_writes=[])\n",
            "CheckpointTuple(config={'configurable': {'thread_id': 'example-1', 'checkpoint_ns': '', 'checkpoint_id': '1f07b374-01b7-6320-8001-ee6906344f2a'}}, checkpoint={'v': 1, 'ts': '2025-08-17T06:56:07.744360+00:00', 'id': '1f07b374-01b7-6320-8001-ee6906344f2a', 'channel_values': {'query': '私の好きなものはずんだ餅です。覚えておいてね。', 'messages': [SystemMessage(content='あなたは最小限の応答をする対話エージェントです。', additional_kwargs={}, response_metadata={}), HumanMessage(content='私の好きなものはずんだ餅です。覚えておいてね。', additional_kwargs={}, response_metadata={})], 'add_message': 'add_message'}, 'channel_versions': {'__start__': '00000000000000000000000000000002.0.06960001327911214', 'query': '00000000000000000000000000000002.0.2708384151038363', 'messages': '00000000000000000000000000000003.0.6258665234447757', 'start:add_message': '00000000000000000000000000000003.0.8818252056382136', 'add_message': '00000000000000000000000000000003.0.3488317025685478'}, 'versions_seen': {'__input__': {}, '__start__': {'__start__': '00000000000000000000000000000001.0.7710531270845292'}, 'add_message': {'start:add_message': '00000000000000000000000000000002.0.08938752943720563'}}, 'pending_sends': []}, metadata={'source': 'loop', 'writes': {'add_message': {'messages': [SystemMessage(content='あなたは最小限の応答をする対話エージェントです。', additional_kwargs={}, response_metadata={}), HumanMessage(content='私の好きなものはずんだ餅です。覚えておいてね。', additional_kwargs={}, response_metadata={})]}}, 'step': 1, 'parents': {}}, parent_config={'configurable': {'thread_id': 'example-1', 'checkpoint_ns': '', 'checkpoint_id': '1f07b374-01b2-6f48-8000-94dda284a5eb'}}, pending_writes=[])\n",
            "CheckpointTuple(config={'configurable': {'thread_id': 'example-1', 'checkpoint_ns': '', 'checkpoint_id': '1f07b374-01b2-6f48-8000-94dda284a5eb'}}, checkpoint={'v': 1, 'ts': '2025-08-17T06:56:07.742618+00:00', 'id': '1f07b374-01b2-6f48-8000-94dda284a5eb', 'channel_values': {'query': '私の好きなものはずんだ餅です。覚えておいてね。', 'messages': [], 'start:add_message': '__start__'}, 'channel_versions': {'__start__': '00000000000000000000000000000002.0.06960001327911214', 'query': '00000000000000000000000000000002.0.2708384151038363', 'messages': '00000000000000000000000000000002.0.9814716186608923', 'start:add_message': '00000000000000000000000000000002.0.08938752943720563'}, 'versions_seen': {'__input__': {}, '__start__': {'__start__': '00000000000000000000000000000001.0.7710531270845292'}}, 'pending_sends': []}, metadata={'source': 'loop', 'writes': None, 'step': 0, 'parents': {}}, parent_config={'configurable': {'thread_id': 'example-1', 'checkpoint_ns': '', 'checkpoint_id': '1f07b374-01a7-607a-bfff-08e88d2d2ba7'}}, pending_writes=[])\n",
            "CheckpointTuple(config={'configurable': {'thread_id': 'example-1', 'checkpoint_ns': '', 'checkpoint_id': '1f07b374-01a7-607a-bfff-08e88d2d2ba7'}}, checkpoint={'v': 1, 'ts': '2025-08-17T06:56:07.737742+00:00', 'id': '1f07b374-01a7-607a-bfff-08e88d2d2ba7', 'channel_values': {'__start__': State(query='私の好きなものはずんだ餅です。覚えておいてね。', messages=[])}, 'channel_versions': {'__start__': '00000000000000000000000000000001.0.7710531270845292'}, 'versions_seen': {'__input__': {}}, 'pending_sends': []}, metadata={'source': 'input', 'writes': {'__start__': State(query='私の好きなものはずんだ餅です。覚えておいてね。', messages=[])}, 'step': -1, 'parents': {}}, parent_config=None, pending_writes=[])\n"
          ]
        }
      ],
      "source": [
        "for checkpoint in checkpointer.list(config):\n",
        "    print(checkpoint)"
      ]
    },
    {
      "cell_type": "code",
      "execution_count": 8,
      "metadata": {
        "colab": {
          "base_uri": "https://localhost:8080/"
        },
        "id": "BWr5fEpDVxuD",
        "outputId": "ac6c6f64-9496-4884-9c51-f3dc553c61ae"
      },
      "outputs": [
        {
          "output_type": "stream",
          "name": "stdout",
          "text": [
            "チェックポイントデータ:\n",
            "{'channel_values': {'llm_response': 'llm_response',\n",
            "                    'messages': [SystemMessage(content='あなたは最小限の応答をする対話エージェントです。', additional_kwargs={}, response_metadata={}),\n",
            "                                 HumanMessage(content='私の好きなものはずんだ餅です。覚えておいてね。', additional_kwargs={}, response_metadata={}),\n",
            "                                 AIMessage(content='了解しました。ずんだ餅が好きなのですね。', additional_kwargs={'refusal': None}, response_metadata={'token_usage': {'completion_tokens': 342, 'prompt_tokens': 47, 'total_tokens': 389, 'completion_tokens_details': {'accepted_prediction_tokens': 0, 'audio_tokens': 0, 'reasoning_tokens': 320, 'rejected_prediction_tokens': 0}, 'prompt_tokens_details': {'audio_tokens': 0, 'cached_tokens': 0}}, 'model_name': 'gpt-5-nano-2025-08-07', 'system_fingerprint': None, 'finish_reason': 'stop', 'logprobs': None}, id='run--e475bd46-b490-483e-8f62-f2f2ebb60de8-0', usage_metadata={'input_tokens': 47, 'output_tokens': 342, 'total_tokens': 389})],\n",
            "                    'query': '私の好きなものはずんだ餅です。覚えておいてね。'},\n",
            " 'channel_versions': {'__start__': '00000000000000000000000000000002.0.06960001327911214',\n",
            "                      'add_message': '00000000000000000000000000000004.0.14173965428194335',\n",
            "                      'llm_response': '00000000000000000000000000000004.0.4447369149230459',\n",
            "                      'messages': '00000000000000000000000000000004.0.1042163755278741',\n",
            "                      'query': '00000000000000000000000000000002.0.2708384151038363',\n",
            "                      'start:add_message': '00000000000000000000000000000003.0.8818252056382136'},\n",
            " 'id': '1f07b374-29a5-690a-8002-df355abe453d',\n",
            " 'pending_sends': [],\n",
            " 'ts': '2025-08-17T06:56:11.931447+00:00',\n",
            " 'v': 1,\n",
            " 'versions_seen': {'__input__': {},\n",
            "                   '__start__': {'__start__': '00000000000000000000000000000001.0.7710531270845292'},\n",
            "                   'add_message': {'start:add_message': '00000000000000000000000000000002.0.08938752943720563'},\n",
            "                   'llm_response': {'add_message': '00000000000000000000000000000003.0.3488317025685478'}}}\n",
            "\n",
            "メタデータ:\n",
            "{'parents': {},\n",
            " 'source': 'loop',\n",
            " 'step': 2,\n",
            " 'writes': {'llm_response': {'messages': [AIMessage(content='了解しました。ずんだ餅が好きなのですね。', additional_kwargs={'refusal': None}, response_metadata={'token_usage': {'completion_tokens': 342, 'prompt_tokens': 47, 'total_tokens': 389, 'completion_tokens_details': {'accepted_prediction_tokens': 0, 'audio_tokens': 0, 'reasoning_tokens': 320, 'rejected_prediction_tokens': 0}, 'prompt_tokens_details': {'audio_tokens': 0, 'cached_tokens': 0}}, 'model_name': 'gpt-5-nano-2025-08-07', 'system_fingerprint': None, 'finish_reason': 'stop', 'logprobs': None}, id='run--e475bd46-b490-483e-8f62-f2f2ebb60de8-0', usage_metadata={'input_tokens': 47, 'output_tokens': 342, 'total_tokens': 389})]}}}\n"
          ]
        }
      ],
      "source": [
        "print_checkpoint_dump(checkpointer, config)"
      ]
    },
    {
      "cell_type": "code",
      "execution_count": 9,
      "metadata": {
        "colab": {
          "base_uri": "https://localhost:8080/"
        },
        "id": "20mchvDKVxuE",
        "outputId": "1e52c133-e50c-4cc5-a326-5b9ed51fa2a8"
      },
      "outputs": [
        {
          "output_type": "execute_result",
          "data": {
            "text/plain": [
              "{'query': '私の好物は何か覚えてる？',\n",
              " 'messages': [SystemMessage(content='あなたは最小限の応答をする対話エージェントです。', additional_kwargs={}, response_metadata={}),\n",
              "  HumanMessage(content='私の好きなものはずんだ餅です。覚えておいてね。', additional_kwargs={}, response_metadata={}),\n",
              "  AIMessage(content='了解しました。ずんだ餅が好きなのですね。', additional_kwargs={'refusal': None}, response_metadata={'token_usage': {'completion_tokens': 342, 'prompt_tokens': 47, 'total_tokens': 389, 'completion_tokens_details': {'accepted_prediction_tokens': 0, 'audio_tokens': 0, 'reasoning_tokens': 320, 'rejected_prediction_tokens': 0}, 'prompt_tokens_details': {'audio_tokens': 0, 'cached_tokens': 0}}, 'model_name': 'gpt-5-nano-2025-08-07', 'system_fingerprint': None, 'finish_reason': 'stop', 'logprobs': None}, id='run--e475bd46-b490-483e-8f62-f2f2ebb60de8-0', usage_metadata={'input_tokens': 47, 'output_tokens': 342, 'total_tokens': 389}),\n",
              "  HumanMessage(content='私の好物は何か覚えてる？', additional_kwargs={}, response_metadata={}),\n",
              "  AIMessage(content='はい、ずんだ餅が好きなのを覚えています。', additional_kwargs={'refusal': None}, response_metadata={'token_usage': {'completion_tokens': 408, 'prompt_tokens': 81, 'total_tokens': 489, 'completion_tokens_details': {'accepted_prediction_tokens': 0, 'audio_tokens': 0, 'reasoning_tokens': 384, 'rejected_prediction_tokens': 0}, 'prompt_tokens_details': {'audio_tokens': 0, 'cached_tokens': 0}}, 'model_name': 'gpt-5-nano-2025-08-07', 'system_fingerprint': None, 'finish_reason': 'stop', 'logprobs': None}, id='run--150ed93d-2e97-465b-a10c-4b969146a945-0', usage_metadata={'input_tokens': 81, 'output_tokens': 408, 'total_tokens': 489})]}"
            ]
          },
          "metadata": {},
          "execution_count": 9
        }
      ],
      "source": [
        "user_query = State(query=\"私の好物は何か覚えてる？\")\n",
        "second_response = compiled_graph.invoke(user_query, config)\n",
        "second_response"
      ]
    },
    {
      "cell_type": "code",
      "execution_count": 10,
      "metadata": {
        "colab": {
          "base_uri": "https://localhost:8080/"
        },
        "id": "PfM0OF8GVxuF",
        "outputId": "95de3154-0108-48ee-e6d4-28d27d0033b9"
      },
      "outputs": [
        {
          "output_type": "stream",
          "name": "stdout",
          "text": [
            "CheckpointTuple(config={'configurable': {'thread_id': 'example-1', 'checkpoint_ns': '', 'checkpoint_id': '1f07b379-6691-6df1-8006-f3f994f6e0e0'}}, checkpoint={'v': 1, 'ts': '2025-08-17T06:58:32.537423+00:00', 'id': '1f07b379-6691-6df1-8006-f3f994f6e0e0', 'channel_values': {'query': '私の好物は何か覚えてる？', 'messages': [SystemMessage(content='あなたは最小限の応答をする対話エージェントです。', additional_kwargs={}, response_metadata={}), HumanMessage(content='私の好きなものはずんだ餅です。覚えておいてね。', additional_kwargs={}, response_metadata={}), AIMessage(content='了解しました。ずんだ餅が好きなのですね。', additional_kwargs={'refusal': None}, response_metadata={'token_usage': {'completion_tokens': 342, 'prompt_tokens': 47, 'total_tokens': 389, 'completion_tokens_details': {'accepted_prediction_tokens': 0, 'audio_tokens': 0, 'reasoning_tokens': 320, 'rejected_prediction_tokens': 0}, 'prompt_tokens_details': {'audio_tokens': 0, 'cached_tokens': 0}}, 'model_name': 'gpt-5-nano-2025-08-07', 'system_fingerprint': None, 'finish_reason': 'stop', 'logprobs': None}, id='run--e475bd46-b490-483e-8f62-f2f2ebb60de8-0', usage_metadata={'input_tokens': 47, 'output_tokens': 342, 'total_tokens': 389}), HumanMessage(content='私の好物は何か覚えてる？', additional_kwargs={}, response_metadata={}), AIMessage(content='はい、ずんだ餅が好きなのを覚えています。', additional_kwargs={'refusal': None}, response_metadata={'token_usage': {'completion_tokens': 408, 'prompt_tokens': 81, 'total_tokens': 489, 'completion_tokens_details': {'accepted_prediction_tokens': 0, 'audio_tokens': 0, 'reasoning_tokens': 384, 'rejected_prediction_tokens': 0}, 'prompt_tokens_details': {'audio_tokens': 0, 'cached_tokens': 0}}, 'model_name': 'gpt-5-nano-2025-08-07', 'system_fingerprint': None, 'finish_reason': 'stop', 'logprobs': None}, id='run--150ed93d-2e97-465b-a10c-4b969146a945-0', usage_metadata={'input_tokens': 81, 'output_tokens': 408, 'total_tokens': 489})], 'llm_response': 'llm_response'}, 'channel_versions': {'__start__': '00000000000000000000000000000006.0.8769747569639251', 'query': '00000000000000000000000000000006.0.7635254603674297', 'messages': '00000000000000000000000000000008.0.6751007883371762', 'start:add_message': '00000000000000000000000000000007.0.8608955921992353', 'add_message': '00000000000000000000000000000008.0.8897243980776873', 'llm_response': '00000000000000000000000000000008.0.7936742601291953'}, 'versions_seen': {'__input__': {}, '__start__': {'__start__': '00000000000000000000000000000005.0.8764737526394341'}, 'add_message': {'start:add_message': '00000000000000000000000000000006.0.5770579260844239'}, 'llm_response': {'add_message': '00000000000000000000000000000007.0.12655263155851937'}}, 'pending_sends': []}, metadata={'source': 'loop', 'writes': {'llm_response': {'messages': [AIMessage(content='はい、ずんだ餅が好きなのを覚えています。', additional_kwargs={'refusal': None}, response_metadata={'token_usage': {'completion_tokens': 408, 'prompt_tokens': 81, 'total_tokens': 489, 'completion_tokens_details': {'accepted_prediction_tokens': 0, 'audio_tokens': 0, 'reasoning_tokens': 384, 'rejected_prediction_tokens': 0}, 'prompt_tokens_details': {'audio_tokens': 0, 'cached_tokens': 0}}, 'model_name': 'gpt-5-nano-2025-08-07', 'system_fingerprint': None, 'finish_reason': 'stop', 'logprobs': None}, id='run--150ed93d-2e97-465b-a10c-4b969146a945-0', usage_metadata={'input_tokens': 81, 'output_tokens': 408, 'total_tokens': 489})]}}, 'step': 6, 'parents': {}}, parent_config={'configurable': {'thread_id': 'example-1', 'checkpoint_ns': '', 'checkpoint_id': '1f07b379-4615-692f-8005-2a455eee3d8f'}}, pending_writes=[])\n",
            "CheckpointTuple(config={'configurable': {'thread_id': 'example-1', 'checkpoint_ns': '', 'checkpoint_id': '1f07b379-4615-692f-8005-2a455eee3d8f'}}, checkpoint={'v': 1, 'ts': '2025-08-17T06:58:29.131061+00:00', 'id': '1f07b379-4615-692f-8005-2a455eee3d8f', 'channel_values': {'query': '私の好物は何か覚えてる？', 'messages': [SystemMessage(content='あなたは最小限の応答をする対話エージェントです。', additional_kwargs={}, response_metadata={}), HumanMessage(content='私の好きなものはずんだ餅です。覚えておいてね。', additional_kwargs={}, response_metadata={}), AIMessage(content='了解しました。ずんだ餅が好きなのですね。', additional_kwargs={'refusal': None}, response_metadata={'token_usage': {'completion_tokens': 342, 'prompt_tokens': 47, 'total_tokens': 389, 'completion_tokens_details': {'accepted_prediction_tokens': 0, 'audio_tokens': 0, 'reasoning_tokens': 320, 'rejected_prediction_tokens': 0}, 'prompt_tokens_details': {'audio_tokens': 0, 'cached_tokens': 0}}, 'model_name': 'gpt-5-nano-2025-08-07', 'system_fingerprint': None, 'finish_reason': 'stop', 'logprobs': None}, id='run--e475bd46-b490-483e-8f62-f2f2ebb60de8-0', usage_metadata={'input_tokens': 47, 'output_tokens': 342, 'total_tokens': 389}), HumanMessage(content='私の好物は何か覚えてる？', additional_kwargs={}, response_metadata={})], 'add_message': 'add_message'}, 'channel_versions': {'__start__': '00000000000000000000000000000006.0.8769747569639251', 'query': '00000000000000000000000000000006.0.7635254603674297', 'messages': '00000000000000000000000000000007.0.7737242367099244', 'start:add_message': '00000000000000000000000000000007.0.8608955921992353', 'add_message': '00000000000000000000000000000007.0.12655263155851937', 'llm_response': '00000000000000000000000000000005.0.34640902517566985'}, 'versions_seen': {'__input__': {}, '__start__': {'__start__': '00000000000000000000000000000005.0.8764737526394341'}, 'add_message': {'start:add_message': '00000000000000000000000000000006.0.5770579260844239'}, 'llm_response': {'add_message': '00000000000000000000000000000003.0.3488317025685478'}}, 'pending_sends': []}, metadata={'source': 'loop', 'writes': {'add_message': {'messages': [HumanMessage(content='私の好物は何か覚えてる？', additional_kwargs={}, response_metadata={})]}}, 'step': 5, 'parents': {}}, parent_config={'configurable': {'thread_id': 'example-1', 'checkpoint_ns': '', 'checkpoint_id': '1f07b379-4612-688b-8004-56bff8527837'}}, pending_writes=[])\n",
            "CheckpointTuple(config={'configurable': {'thread_id': 'example-1', 'checkpoint_ns': '', 'checkpoint_id': '1f07b379-4612-688b-8004-56bff8527837'}}, checkpoint={'v': 1, 'ts': '2025-08-17T06:58:29.129813+00:00', 'id': '1f07b379-4612-688b-8004-56bff8527837', 'channel_values': {'query': '私の好物は何か覚えてる？', 'messages': [SystemMessage(content='あなたは最小限の応答をする対話エージェントです。', additional_kwargs={}, response_metadata={}), HumanMessage(content='私の好きなものはずんだ餅です。覚えておいてね。', additional_kwargs={}, response_metadata={}), AIMessage(content='了解しました。ずんだ餅が好きなのですね。', additional_kwargs={'refusal': None}, response_metadata={'token_usage': {'completion_tokens': 342, 'prompt_tokens': 47, 'total_tokens': 389, 'completion_tokens_details': {'accepted_prediction_tokens': 0, 'audio_tokens': 0, 'reasoning_tokens': 320, 'rejected_prediction_tokens': 0}, 'prompt_tokens_details': {'audio_tokens': 0, 'cached_tokens': 0}}, 'model_name': 'gpt-5-nano-2025-08-07', 'system_fingerprint': None, 'finish_reason': 'stop', 'logprobs': None}, id='run--e475bd46-b490-483e-8f62-f2f2ebb60de8-0', usage_metadata={'input_tokens': 47, 'output_tokens': 342, 'total_tokens': 389})], 'start:add_message': '__start__'}, 'channel_versions': {'__start__': '00000000000000000000000000000006.0.8769747569639251', 'query': '00000000000000000000000000000006.0.7635254603674297', 'messages': '00000000000000000000000000000006.0.358556011256532', 'start:add_message': '00000000000000000000000000000006.0.5770579260844239', 'add_message': '00000000000000000000000000000004.0.14173965428194335', 'llm_response': '00000000000000000000000000000005.0.34640902517566985'}, 'versions_seen': {'__input__': {}, '__start__': {'__start__': '00000000000000000000000000000005.0.8764737526394341'}, 'add_message': {'start:add_message': '00000000000000000000000000000002.0.08938752943720563'}, 'llm_response': {'add_message': '00000000000000000000000000000003.0.3488317025685478'}}, 'pending_sends': []}, metadata={'source': 'loop', 'writes': None, 'step': 4, 'parents': {}}, parent_config={'configurable': {'thread_id': 'example-1', 'checkpoint_ns': '', 'checkpoint_id': '1f07b379-460c-6bc6-8003-7dba746c982f'}}, pending_writes=[])\n",
            "CheckpointTuple(config={'configurable': {'thread_id': 'example-1', 'checkpoint_ns': '', 'checkpoint_id': '1f07b379-460c-6bc6-8003-7dba746c982f'}}, checkpoint={'v': 1, 'ts': '2025-08-17T06:58:29.127440+00:00', 'id': '1f07b379-460c-6bc6-8003-7dba746c982f', 'channel_values': {'query': '私の好きなものはずんだ餅です。覚えておいてね。', 'messages': [SystemMessage(content='あなたは最小限の応答をする対話エージェントです。', additional_kwargs={}, response_metadata={}), HumanMessage(content='私の好きなものはずんだ餅です。覚えておいてね。', additional_kwargs={}, response_metadata={}), AIMessage(content='了解しました。ずんだ餅が好きなのですね。', additional_kwargs={'refusal': None}, response_metadata={'token_usage': {'completion_tokens': 342, 'prompt_tokens': 47, 'total_tokens': 389, 'completion_tokens_details': {'accepted_prediction_tokens': 0, 'audio_tokens': 0, 'reasoning_tokens': 320, 'rejected_prediction_tokens': 0}, 'prompt_tokens_details': {'audio_tokens': 0, 'cached_tokens': 0}}, 'model_name': 'gpt-5-nano-2025-08-07', 'system_fingerprint': None, 'finish_reason': 'stop', 'logprobs': None}, id='run--e475bd46-b490-483e-8f62-f2f2ebb60de8-0', usage_metadata={'input_tokens': 47, 'output_tokens': 342, 'total_tokens': 389})], '__start__': State(query='私の好物は何か覚えてる？', messages=[])}, 'channel_versions': {'__start__': '00000000000000000000000000000005.0.8764737526394341', 'query': '00000000000000000000000000000002.0.2708384151038363', 'messages': '00000000000000000000000000000004.0.1042163755278741', 'start:add_message': '00000000000000000000000000000003.0.8818252056382136', 'add_message': '00000000000000000000000000000004.0.14173965428194335', 'llm_response': '00000000000000000000000000000005.0.34640902517566985'}, 'versions_seen': {'__input__': {}, '__start__': {'__start__': '00000000000000000000000000000001.0.7710531270845292'}, 'add_message': {'start:add_message': '00000000000000000000000000000002.0.08938752943720563'}, 'llm_response': {'add_message': '00000000000000000000000000000003.0.3488317025685478'}}, 'pending_sends': []}, metadata={'source': 'input', 'writes': {'__start__': State(query='私の好物は何か覚えてる？', messages=[])}, 'step': 3, 'parents': {}}, parent_config={'configurable': {'thread_id': 'example-1', 'checkpoint_ns': '', 'checkpoint_id': '1f07b374-29a5-690a-8002-df355abe453d'}}, pending_writes=[])\n",
            "CheckpointTuple(config={'configurable': {'thread_id': 'example-1', 'checkpoint_ns': '', 'checkpoint_id': '1f07b374-29a5-690a-8002-df355abe453d'}}, checkpoint={'v': 1, 'ts': '2025-08-17T06:56:11.931447+00:00', 'id': '1f07b374-29a5-690a-8002-df355abe453d', 'channel_values': {'query': '私の好きなものはずんだ餅です。覚えておいてね。', 'messages': [SystemMessage(content='あなたは最小限の応答をする対話エージェントです。', additional_kwargs={}, response_metadata={}), HumanMessage(content='私の好きなものはずんだ餅です。覚えておいてね。', additional_kwargs={}, response_metadata={}), AIMessage(content='了解しました。ずんだ餅が好きなのですね。', additional_kwargs={'refusal': None}, response_metadata={'token_usage': {'completion_tokens': 342, 'prompt_tokens': 47, 'total_tokens': 389, 'completion_tokens_details': {'accepted_prediction_tokens': 0, 'audio_tokens': 0, 'reasoning_tokens': 320, 'rejected_prediction_tokens': 0}, 'prompt_tokens_details': {'audio_tokens': 0, 'cached_tokens': 0}}, 'model_name': 'gpt-5-nano-2025-08-07', 'system_fingerprint': None, 'finish_reason': 'stop', 'logprobs': None}, id='run--e475bd46-b490-483e-8f62-f2f2ebb60de8-0', usage_metadata={'input_tokens': 47, 'output_tokens': 342, 'total_tokens': 389})], 'llm_response': 'llm_response'}, 'channel_versions': {'__start__': '00000000000000000000000000000002.0.06960001327911214', 'query': '00000000000000000000000000000002.0.2708384151038363', 'messages': '00000000000000000000000000000004.0.1042163755278741', 'start:add_message': '00000000000000000000000000000003.0.8818252056382136', 'add_message': '00000000000000000000000000000004.0.14173965428194335', 'llm_response': '00000000000000000000000000000004.0.4447369149230459'}, 'versions_seen': {'__input__': {}, '__start__': {'__start__': '00000000000000000000000000000001.0.7710531270845292'}, 'add_message': {'start:add_message': '00000000000000000000000000000002.0.08938752943720563'}, 'llm_response': {'add_message': '00000000000000000000000000000003.0.3488317025685478'}}, 'pending_sends': []}, metadata={'source': 'loop', 'writes': {'llm_response': {'messages': [AIMessage(content='了解しました。ずんだ餅が好きなのですね。', additional_kwargs={'refusal': None}, response_metadata={'token_usage': {'completion_tokens': 342, 'prompt_tokens': 47, 'total_tokens': 389, 'completion_tokens_details': {'accepted_prediction_tokens': 0, 'audio_tokens': 0, 'reasoning_tokens': 320, 'rejected_prediction_tokens': 0}, 'prompt_tokens_details': {'audio_tokens': 0, 'cached_tokens': 0}}, 'model_name': 'gpt-5-nano-2025-08-07', 'system_fingerprint': None, 'finish_reason': 'stop', 'logprobs': None}, id='run--e475bd46-b490-483e-8f62-f2f2ebb60de8-0', usage_metadata={'input_tokens': 47, 'output_tokens': 342, 'total_tokens': 389})]}}, 'step': 2, 'parents': {}}, parent_config={'configurable': {'thread_id': 'example-1', 'checkpoint_ns': '', 'checkpoint_id': '1f07b374-01b7-6320-8001-ee6906344f2a'}}, pending_writes=[])\n",
            "CheckpointTuple(config={'configurable': {'thread_id': 'example-1', 'checkpoint_ns': '', 'checkpoint_id': '1f07b374-01b7-6320-8001-ee6906344f2a'}}, checkpoint={'v': 1, 'ts': '2025-08-17T06:56:07.744360+00:00', 'id': '1f07b374-01b7-6320-8001-ee6906344f2a', 'channel_values': {'query': '私の好きなものはずんだ餅です。覚えておいてね。', 'messages': [SystemMessage(content='あなたは最小限の応答をする対話エージェントです。', additional_kwargs={}, response_metadata={}), HumanMessage(content='私の好きなものはずんだ餅です。覚えておいてね。', additional_kwargs={}, response_metadata={})], 'add_message': 'add_message'}, 'channel_versions': {'__start__': '00000000000000000000000000000002.0.06960001327911214', 'query': '00000000000000000000000000000002.0.2708384151038363', 'messages': '00000000000000000000000000000003.0.6258665234447757', 'start:add_message': '00000000000000000000000000000003.0.8818252056382136', 'add_message': '00000000000000000000000000000003.0.3488317025685478'}, 'versions_seen': {'__input__': {}, '__start__': {'__start__': '00000000000000000000000000000001.0.7710531270845292'}, 'add_message': {'start:add_message': '00000000000000000000000000000002.0.08938752943720563'}}, 'pending_sends': []}, metadata={'source': 'loop', 'writes': {'add_message': {'messages': [SystemMessage(content='あなたは最小限の応答をする対話エージェントです。', additional_kwargs={}, response_metadata={}), HumanMessage(content='私の好きなものはずんだ餅です。覚えておいてね。', additional_kwargs={}, response_metadata={})]}}, 'step': 1, 'parents': {}}, parent_config={'configurable': {'thread_id': 'example-1', 'checkpoint_ns': '', 'checkpoint_id': '1f07b374-01b2-6f48-8000-94dda284a5eb'}}, pending_writes=[])\n",
            "CheckpointTuple(config={'configurable': {'thread_id': 'example-1', 'checkpoint_ns': '', 'checkpoint_id': '1f07b374-01b2-6f48-8000-94dda284a5eb'}}, checkpoint={'v': 1, 'ts': '2025-08-17T06:56:07.742618+00:00', 'id': '1f07b374-01b2-6f48-8000-94dda284a5eb', 'channel_values': {'query': '私の好きなものはずんだ餅です。覚えておいてね。', 'messages': [], 'start:add_message': '__start__'}, 'channel_versions': {'__start__': '00000000000000000000000000000002.0.06960001327911214', 'query': '00000000000000000000000000000002.0.2708384151038363', 'messages': '00000000000000000000000000000002.0.9814716186608923', 'start:add_message': '00000000000000000000000000000002.0.08938752943720563'}, 'versions_seen': {'__input__': {}, '__start__': {'__start__': '00000000000000000000000000000001.0.7710531270845292'}}, 'pending_sends': []}, metadata={'source': 'loop', 'writes': None, 'step': 0, 'parents': {}}, parent_config={'configurable': {'thread_id': 'example-1', 'checkpoint_ns': '', 'checkpoint_id': '1f07b374-01a7-607a-bfff-08e88d2d2ba7'}}, pending_writes=[])\n",
            "CheckpointTuple(config={'configurable': {'thread_id': 'example-1', 'checkpoint_ns': '', 'checkpoint_id': '1f07b374-01a7-607a-bfff-08e88d2d2ba7'}}, checkpoint={'v': 1, 'ts': '2025-08-17T06:56:07.737742+00:00', 'id': '1f07b374-01a7-607a-bfff-08e88d2d2ba7', 'channel_values': {'__start__': State(query='私の好きなものはずんだ餅です。覚えておいてね。', messages=[])}, 'channel_versions': {'__start__': '00000000000000000000000000000001.0.7710531270845292'}, 'versions_seen': {'__input__': {}}, 'pending_sends': []}, metadata={'source': 'input', 'writes': {'__start__': State(query='私の好きなものはずんだ餅です。覚えておいてね。', messages=[])}, 'step': -1, 'parents': {}}, parent_config=None, pending_writes=[])\n"
          ]
        }
      ],
      "source": [
        "for checkpoint in checkpointer.list(config):\n",
        "    print(checkpoint)"
      ]
    },
    {
      "cell_type": "code",
      "execution_count": 11,
      "metadata": {
        "colab": {
          "base_uri": "https://localhost:8080/"
        },
        "id": "UXfnCD70VxuF",
        "outputId": "a435dc4e-03db-4aa0-a203-a1a6b6061d98"
      },
      "outputs": [
        {
          "output_type": "stream",
          "name": "stdout",
          "text": [
            "チェックポイントデータ:\n",
            "{'channel_values': {'llm_response': 'llm_response',\n",
            "                    'messages': [SystemMessage(content='あなたは最小限の応答をする対話エージェントです。', additional_kwargs={}, response_metadata={}),\n",
            "                                 HumanMessage(content='私の好きなものはずんだ餅です。覚えておいてね。', additional_kwargs={}, response_metadata={}),\n",
            "                                 AIMessage(content='了解しました。ずんだ餅が好きなのですね。', additional_kwargs={'refusal': None}, response_metadata={'token_usage': {'completion_tokens': 342, 'prompt_tokens': 47, 'total_tokens': 389, 'completion_tokens_details': {'accepted_prediction_tokens': 0, 'audio_tokens': 0, 'reasoning_tokens': 320, 'rejected_prediction_tokens': 0}, 'prompt_tokens_details': {'audio_tokens': 0, 'cached_tokens': 0}}, 'model_name': 'gpt-5-nano-2025-08-07', 'system_fingerprint': None, 'finish_reason': 'stop', 'logprobs': None}, id='run--e475bd46-b490-483e-8f62-f2f2ebb60de8-0', usage_metadata={'input_tokens': 47, 'output_tokens': 342, 'total_tokens': 389}),\n",
            "                                 HumanMessage(content='私の好物は何か覚えてる？', additional_kwargs={}, response_metadata={}),\n",
            "                                 AIMessage(content='はい、ずんだ餅が好きなのを覚えています。', additional_kwargs={'refusal': None}, response_metadata={'token_usage': {'completion_tokens': 408, 'prompt_tokens': 81, 'total_tokens': 489, 'completion_tokens_details': {'accepted_prediction_tokens': 0, 'audio_tokens': 0, 'reasoning_tokens': 384, 'rejected_prediction_tokens': 0}, 'prompt_tokens_details': {'audio_tokens': 0, 'cached_tokens': 0}}, 'model_name': 'gpt-5-nano-2025-08-07', 'system_fingerprint': None, 'finish_reason': 'stop', 'logprobs': None}, id='run--150ed93d-2e97-465b-a10c-4b969146a945-0', usage_metadata={'input_tokens': 81, 'output_tokens': 408, 'total_tokens': 489})],\n",
            "                    'query': '私の好物は何か覚えてる？'},\n",
            " 'channel_versions': {'__start__': '00000000000000000000000000000006.0.8769747569639251',\n",
            "                      'add_message': '00000000000000000000000000000008.0.8897243980776873',\n",
            "                      'llm_response': '00000000000000000000000000000008.0.7936742601291953',\n",
            "                      'messages': '00000000000000000000000000000008.0.6751007883371762',\n",
            "                      'query': '00000000000000000000000000000006.0.7635254603674297',\n",
            "                      'start:add_message': '00000000000000000000000000000007.0.8608955921992353'},\n",
            " 'id': '1f07b379-6691-6df1-8006-f3f994f6e0e0',\n",
            " 'pending_sends': [],\n",
            " 'ts': '2025-08-17T06:58:32.537423+00:00',\n",
            " 'v': 1,\n",
            " 'versions_seen': {'__input__': {},\n",
            "                   '__start__': {'__start__': '00000000000000000000000000000005.0.8764737526394341'},\n",
            "                   'add_message': {'start:add_message': '00000000000000000000000000000006.0.5770579260844239'},\n",
            "                   'llm_response': {'add_message': '00000000000000000000000000000007.0.12655263155851937'}}}\n",
            "\n",
            "メタデータ:\n",
            "{'parents': {},\n",
            " 'source': 'loop',\n",
            " 'step': 6,\n",
            " 'writes': {'llm_response': {'messages': [AIMessage(content='はい、ずんだ餅が好きなのを覚えています。', additional_kwargs={'refusal': None}, response_metadata={'token_usage': {'completion_tokens': 408, 'prompt_tokens': 81, 'total_tokens': 489, 'completion_tokens_details': {'accepted_prediction_tokens': 0, 'audio_tokens': 0, 'reasoning_tokens': 384, 'rejected_prediction_tokens': 0}, 'prompt_tokens_details': {'audio_tokens': 0, 'cached_tokens': 0}}, 'model_name': 'gpt-5-nano-2025-08-07', 'system_fingerprint': None, 'finish_reason': 'stop', 'logprobs': None}, id='run--150ed93d-2e97-465b-a10c-4b969146a945-0', usage_metadata={'input_tokens': 81, 'output_tokens': 408, 'total_tokens': 489})]}}}\n"
          ]
        }
      ],
      "source": [
        "print_checkpoint_dump(checkpointer, config)"
      ]
    },
    {
      "cell_type": "code",
      "execution_count": 12,
      "metadata": {
        "colab": {
          "base_uri": "https://localhost:8080/"
        },
        "id": "6HkJDC0_VxuF",
        "outputId": "b8a1832f-949d-44b7-b7ef-6f887aab470a"
      },
      "outputs": [
        {
          "output_type": "execute_result",
          "data": {
            "text/plain": [
              "{'query': '私の好物は何？',\n",
              " 'messages': [SystemMessage(content='あなたは最小限の応答をする対話エージェントです。', additional_kwargs={}, response_metadata={}),\n",
              "  HumanMessage(content='私の好物は何？', additional_kwargs={}, response_metadata={}),\n",
              "  AIMessage(content='分かりません。あなたの好物を教えてください。', additional_kwargs={'refusal': None}, response_metadata={'token_usage': {'completion_tokens': 471, 'prompt_tokens': 35, 'total_tokens': 506, 'completion_tokens_details': {'accepted_prediction_tokens': 0, 'audio_tokens': 0, 'reasoning_tokens': 448, 'rejected_prediction_tokens': 0}, 'prompt_tokens_details': {'audio_tokens': 0, 'cached_tokens': 0}}, 'model_name': 'gpt-5-nano-2025-08-07', 'system_fingerprint': None, 'finish_reason': 'stop', 'logprobs': None}, id='run--e315ace9-a18d-4d20-809b-f88dff5c8cfa-0', usage_metadata={'input_tokens': 35, 'output_tokens': 471, 'total_tokens': 506})]}"
            ]
          },
          "metadata": {},
          "execution_count": 12
        }
      ],
      "source": [
        "config = {\"configurable\": {\"thread_id\": \"example-2\"}}\n",
        "user_query = State(query=\"私の好物は何？\")\n",
        "other_thread_response = compiled_graph.invoke(user_query, config)\n",
        "other_thread_response"
      ]
    }
  ],
  "metadata": {
    "kernelspec": {
      "display_name": "Python 3",
      "language": "python",
      "name": "python3"
    },
    "language_info": {
      "codemirror_mode": {
        "name": "ipython",
        "version": 3
      },
      "file_extension": ".py",
      "mimetype": "text/x-python",
      "name": "python",
      "nbconvert_exporter": "python",
      "pygments_lexer": "ipython3",
      "version": "3.11.8"
    },
    "colab": {
      "provenance": [],
      "toc_visible": true
    }
  },
  "nbformat": 4,
  "nbformat_minor": 0
}